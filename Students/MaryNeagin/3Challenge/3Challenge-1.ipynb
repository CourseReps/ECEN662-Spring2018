{
 "cells": [
  {
   "cell_type": "code",
   "execution_count": 79,
   "metadata": {
    "collapsed": true
   },
   "outputs": [],
   "source": [
    "import pandas as pd\n",
    "import numpy as np"
   ]
  },
  {
   "cell_type": "code",
   "execution_count": 80,
   "metadata": {},
   "outputs": [
    {
     "name": "stdout",
     "output_type": "stream",
     "text": [
      "(5000, 9)\n",
      "(5000, 9)\n",
      "        Y0    Y1    Y2    Y3    Y4    Y5    Y6    Y7  label\n",
      "5000   3.0   3.0   7.0   2.0   4.0   0.0   4.0   2.0    NaN\n",
      "5001  14.0   6.0  12.0   5.0   6.0   7.0   5.0   7.0    NaN\n",
      "5002  13.0  15.0  10.0  14.0  10.0  15.0  12.0  17.0    NaN\n",
      "5003   9.0  15.0  13.0   7.0   6.0  11.0  12.0  13.0    NaN\n",
      "5004  17.0  18.0  18.0  20.0  19.0  21.0  13.0  21.0    NaN\n",
      "5005  19.0  22.0  18.0  19.0  15.0  19.0  19.0  18.0    NaN\n",
      "5006  22.0  14.0  17.0  10.0  21.0  14.0  13.0  12.0    NaN\n",
      "5007  16.0  12.0  17.0  15.0  17.0  20.0  16.0  19.0    NaN\n",
      "5008   2.0   2.0   4.0   2.0   4.0   3.0   6.0   6.0    NaN\n",
      "5009   9.0   5.0   5.0   6.0   7.0  10.0   6.0  10.0    NaN\n",
      "5010  12.0   8.0  11.0  11.0  10.0  13.0  14.0  17.0    NaN\n",
      "5011   4.0   5.0   6.0   4.0   7.0   7.0   6.0   4.0    NaN\n",
      "5012   1.0   1.0   1.0   2.0   0.0   1.0   2.0   2.0    NaN\n",
      "5013   9.0   9.0  10.0   7.0   9.0  10.0   7.0  10.0    NaN\n",
      "5014   7.0  15.0  11.0  10.0   8.0  17.0  12.0  18.0    NaN\n",
      "5015   9.0  14.0  13.0  12.0  10.0  18.0  13.0  17.0    NaN\n",
      "5016  32.0  30.0  32.0  32.0  32.0  30.0  25.0  27.0    NaN\n",
      "5017  22.0  16.0  17.0  24.0  20.0  16.0  26.0  20.0    NaN\n",
      "5018   8.0   9.0  12.0  11.0  17.0   7.0   8.0   8.0    NaN\n",
      "5019  17.0  16.0  21.0  16.0  17.0  18.0  17.0  18.0    NaN\n",
      "5020  14.0  14.0  11.0  20.0  17.0  17.0  18.0  21.0    NaN\n",
      "5021   4.0   7.0   5.0   1.0   5.0   2.0   4.0   5.0    NaN\n",
      "5022   4.0   3.0  11.0   4.0   8.0   2.0   3.0   4.0    NaN\n",
      "5023   7.0   9.0   6.0   5.0   9.0   6.0  10.0   9.0    NaN\n",
      "5024   8.0  14.0  13.0  15.0  16.0  14.0  21.0   9.0    NaN\n",
      "5025  14.0   8.0   7.0   8.0  11.0   7.0  11.0  11.0    NaN\n",
      "5026   5.0   3.0   3.0   2.0   6.0   6.0   3.0   3.0    NaN\n",
      "5027  12.0  22.0  15.0  20.0  17.0   9.0  12.0  15.0    NaN\n",
      "5028  12.0  13.0  10.0  16.0  15.0  11.0  15.0  18.0    NaN\n",
      "5029   5.0   3.0   4.0   6.0   4.0   5.0   4.0   4.0    NaN\n",
      "...    ...   ...   ...   ...   ...   ...   ...   ...    ...\n",
      "9970   8.0   7.0   7.0  13.0  10.0  14.0  11.0   6.0    NaN\n",
      "9971  19.0  17.0  18.0  13.0  18.0  18.0  22.0  16.0    NaN\n",
      "9972  17.0  17.0  19.0  11.0  14.0  16.0  15.0  17.0    NaN\n",
      "9973  16.0  21.0  17.0  15.0  12.0  14.0  23.0  18.0    NaN\n",
      "9974   4.0   5.0   5.0   4.0   5.0   5.0   7.0   5.0    NaN\n",
      "9975   7.0   9.0  12.0   8.0   8.0  15.0   8.0  13.0    NaN\n",
      "9976  19.0  21.0  21.0  13.0  18.0  26.0  22.0  23.0    NaN\n",
      "9977   2.0   4.0  11.0   9.0   7.0   3.0   4.0   6.0    NaN\n",
      "9978  32.0  32.0  30.0  34.0  34.0  32.0  33.0  33.0    NaN\n",
      "9979   8.0   8.0   3.0   2.0   6.0   4.0   5.0  10.0    NaN\n",
      "9980   6.0   8.0   9.0   8.0  11.0   8.0  11.0  13.0    NaN\n",
      "9981  10.0   7.0   2.0   7.0   6.0   9.0   3.0   7.0    NaN\n",
      "9982   7.0   7.0   7.0   9.0   8.0  14.0   7.0   8.0    NaN\n",
      "9983   7.0   4.0   6.0   2.0   6.0   3.0   6.0   9.0    NaN\n",
      "9984  15.0  19.0  14.0  16.0  16.0  14.0  14.0  17.0    NaN\n",
      "9985   0.0   1.0   0.0   1.0   0.0   0.0   0.0   0.0    NaN\n",
      "9986   8.0   7.0  10.0   4.0   9.0   6.0   4.0   6.0    NaN\n",
      "9987  12.0  13.0  15.0  13.0  14.0  10.0   9.0  15.0    NaN\n",
      "9988  11.0  10.0   9.0  16.0  11.0  16.0  10.0  10.0    NaN\n",
      "9989   6.0   3.0   1.0   3.0   1.0   3.0   5.0   4.0    NaN\n",
      "9990  11.0  11.0  11.0   9.0   8.0  14.0  10.0   8.0    NaN\n",
      "9991  21.0  17.0  18.0  19.0  18.0  20.0  17.0  16.0    NaN\n",
      "9992  24.0  21.0  28.0  21.0  16.0  22.0  26.0  21.0    NaN\n",
      "9993   4.0   9.0   5.0  11.0   8.0  10.0  10.0   9.0    NaN\n",
      "9994  26.0  27.0  27.0  24.0  28.0  24.0  31.0  21.0    NaN\n",
      "9995  13.0  11.0  16.0   9.0  10.0  12.0  17.0  12.0    NaN\n",
      "9996   9.0  11.0   8.0  10.0   9.0  11.0   8.0   9.0    NaN\n",
      "9997  21.0  27.0  28.0  29.0  21.0  22.0  22.0  20.0    NaN\n",
      "9998   8.0   9.0   7.0  11.0  12.0  10.0   6.0   7.0    NaN\n",
      "9999   9.0   7.0   5.0   9.0   4.0   7.0  10.0   9.0    NaN\n",
      "\n",
      "[5000 rows x 9 columns]\n"
     ]
    }
   ],
   "source": [
    "df = pd.DataFrame.from_csv('3challenge-1.csv')\n",
    "dftraining = df.loc[~np.isnan(df['label'])]\n",
    "dftesting = df.loc[np.isnan(df['label'])]\n",
    "print(dftraining.shape)\n",
    "print(dftesting.shape)\n",
    "print(dftesting)"
   ]
  },
  {
   "cell_type": "code",
   "execution_count": 81,
   "metadata": {},
   "outputs": [
    {
     "name": "stdout",
     "output_type": "stream",
     "text": [
      "[[  3.   3.   7. ...,   0.   4.   2.]\n",
      " [ 14.   6.  12. ...,   7.   5.   7.]\n",
      " [ 13.  15.  10. ...,  15.  12.  17.]\n",
      " ..., \n",
      " [ 21.  27.  28. ...,  22.  22.  20.]\n",
      " [  8.   9.   7. ...,  10.   6.   7.]\n",
      " [  9.   7.   5. ...,   7.  10.   9.]]\n"
     ]
    }
   ],
   "source": [
    "TrainingData = dftraining.as_matrix(columns=None)\n",
    "TestData = dftesting.as_matrix(columns=['Y0', 'Y1', 'Y2', 'Y3', 'Y4', 'Y5', 'Y6', 'Y7'])\n",
    "print(TestData)"
   ]
  },
  {
   "cell_type": "code",
   "execution_count": 82,
   "metadata": {},
   "outputs": [
    {
     "name": "stdout",
     "output_type": "stream",
     "text": [
      "[ 0.078125  0.19375   0.33125  ...,  0.59375   0.21875   0.1875  ]\n",
      "(5000,)\n"
     ]
    }
   ],
   "source": [
    "estimated_theta = TestData[:,0:8].sum(axis=1)/320\n",
    "print(estimated_theta)\n",
    "print(estimated_theta.shape)"
   ]
  },
  {
   "cell_type": "code",
   "execution_count": 83,
   "metadata": {},
   "outputs": [
    {
     "name": "stdout",
     "output_type": "stream",
     "text": [
      "(5000, 1)\n"
     ]
    }
   ],
   "source": [
    "predictions_ans=np.array(estimated_theta)\n",
    "predictions_ans=predictions_ans.reshape(predictions_ans.shape[0],1)\n",
    "TestData=np.append(TestData,predictions_ans,axis=1)\n",
    "print(predictions_ans.shape)\n",
    "dfdata=pd.DataFrame(TestData,columns=['Y0', 'Y1','Y2','Y3','Y4','Y5','Y6','Y7','label'])\n",
    "df = pd.concat([dftraining, dfdata], join='outer', ignore_index=True)\n",
    "df.to_csv('3challenge-1.csv')"
   ]
  }
 ],
 "metadata": {
  "kernelspec": {
   "display_name": "Python 3",
   "language": "python",
   "name": "python3"
  },
  "language_info": {
   "codemirror_mode": {
    "name": "ipython",
    "version": 3
   },
   "file_extension": ".py",
   "mimetype": "text/x-python",
   "name": "python",
   "nbconvert_exporter": "python",
   "pygments_lexer": "ipython3",
   "version": "3.6.3"
  }
 },
 "nbformat": 4,
 "nbformat_minor": 2
}
