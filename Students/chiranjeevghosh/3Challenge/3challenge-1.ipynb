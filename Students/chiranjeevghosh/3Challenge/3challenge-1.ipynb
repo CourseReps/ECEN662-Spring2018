{
 "cells": [
  {
   "cell_type": "markdown",
   "metadata": {},
   "source": [
    "# Challenge 3: Parameter Estimation 1"
   ]
  },
  {
   "cell_type": "markdown",
   "metadata": {},
   "source": [
    "The first step is to import relevant libraries."
   ]
  },
  {
   "cell_type": "code",
   "execution_count": 170,
   "metadata": {
    "collapsed": true
   },
   "outputs": [],
   "source": [
    "import pandas as pd\n",
    "import numpy as np"
   ]
  },
  {
   "cell_type": "markdown",
   "metadata": {},
   "source": [
    "The second step is to import data from the given file."
   ]
  },
  {
   "cell_type": "code",
   "execution_count": 171,
   "metadata": {},
   "outputs": [
    {
     "name": "stdout",
     "output_type": "stream",
     "text": [
      "(5000, 9)\n",
      "(5000, 9)\n"
     ]
    }
   ],
   "source": [
    "df = pd.DataFrame.from_csv(\"3challenge-1.csv\")\n",
    "dftraining = df.loc[~np.isnan(df['label'])]\n",
    "dftesting = df.loc[np.isnan(df['label'])]\n",
    "print(dftraining.shape)\n",
    "print(dftesting.shape)"
   ]
  },
  {
   "cell_type": "markdown",
   "metadata": {},
   "source": [
    "One can use the data in their original Pandas DataFrame format, or one can transform these objects into Numpy-arrays."
   ]
  },
  {
   "cell_type": "code",
   "execution_count": 172,
   "metadata": {
    "scrolled": true
   },
   "outputs": [
    {
     "name": "stdout",
     "output_type": "stream",
     "text": [
      "Mean Squared Error on training data = 0.000549\n"
     ]
    }
   ],
   "source": [
    "TrainingData = dftraining.as_matrix(columns=None)\n",
    "TestData = dftesting.as_matrix(columns=['Y0', 'Y1', 'Y2', 'Y3', 'Y4', 'Y5', 'Y6', 'Y7'])\n",
    "num_training_pts = TrainingData.shape[0];\n",
    "dftesting.values[:,8] = (2 + np.sum(dftesting.values[:,0:7],1))/327\n",
    "dfnew = dftraining.append(dftesting)\n",
    "\n",
    "# Test algorithm on training data\n",
    "sq_sum = 0\n",
    "for i in range(TrainingData.shape[0]):\n",
    "    v=0\n",
    "    for j in range(TrainingData.shape[1]-1):\n",
    "        v=v+TrainingData[i][j]\n",
    "    est=(v+2)/327\n",
    "    diff=(est-TrainingData[i][8]) \n",
    "    sq_sum=sq_sum+(diff*diff)\n",
    "    \n",
    "MSE = sq_sum/num_training_pts\n",
    "print(\"Mean Squared Error on training data = %f\" % MSE)\n",
    "\n"
   ]
  },
  {
   "cell_type": "markdown",
   "metadata": {},
   "source": [
    "After creating an algorithm and generating labels, one should update the original CSV file."
   ]
  },
  {
   "cell_type": "code",
   "execution_count": 173,
   "metadata": {},
   "outputs": [],
   "source": [
    "dfnew.to_csv(\"3challenge-1.csv\") \n",
    "#df = pd.concat([dftraining, dftesting], join='outer', ignore_index=True)\n",
    "#df.to_csv(\"3challenge-1.csv\")"
   ]
  }
 ],
 "metadata": {
  "kernelspec": {
   "display_name": "Python 2",
   "language": "python",
   "name": "python2"
  },
  "language_info": {
   "codemirror_mode": {
    "name": "ipython",
    "version": 2
   },
   "file_extension": ".py",
   "mimetype": "text/x-python",
   "name": "python",
   "nbconvert_exporter": "python",
   "pygments_lexer": "ipython2",
   "version": "2.7.13"
  }
 },
 "nbformat": 4,
 "nbformat_minor": 2
}
