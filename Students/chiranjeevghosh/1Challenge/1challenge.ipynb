{
 "cells": [
  {
   "cell_type": "markdown",
   "metadata": {},
   "source": [
    "# Challenge 1: Binary Detection 1"
   ]
  },
  {
   "cell_type": "markdown",
   "metadata": {},
   "source": [
    "The first step is to import relevant libraries."
   ]
  },
  {
   "cell_type": "code",
   "execution_count": 27,
   "metadata": {
    "collapsed": true
   },
   "outputs": [],
   "source": [
    "import pandas as pd\n",
    "import numpy as np\n",
    "import matplotlib.pyplot as plt\n",
    "import math"
   ]
  },
  {
   "cell_type": "markdown",
   "metadata": {},
   "source": [
    "The second step is to import data from the given file."
   ]
  },
  {
   "cell_type": "code",
   "execution_count": 28,
   "metadata": {},
   "outputs": [
    {
     "name": "stdout",
     "output_type": "stream",
     "text": [
      "(6000, 3)\n",
      "(4000, 3)\n",
      "(5000, 3)\n"
     ]
    }
   ],
   "source": [
    "df = pd.DataFrame.from_csv(\"1challenge.csv\")\n",
    "df0 = df.loc[df['label'] == 0.0]\n",
    "df1 = df.loc[df['label'] == 1.0]\n",
    "dftest = df.loc[~((df['label'] == 0.0) | (df['label'] == 1.0))]\n",
    "print(df0.shape)\n",
    "print(df1.shape)\n",
    "print(dftest.shape)"
   ]
  },
  {
   "cell_type": "markdown",
   "metadata": {},
   "source": [
    "One can use the data in their original Pandas DataFrame format, or one can transform these objects into Numpy-arrays."
   ]
  },
  {
   "cell_type": "code",
   "execution_count": 29,
   "metadata": {
    "collapsed": true
   },
   "outputs": [],
   "source": [
    "TrainingData0 = df0.as_matrix(columns=None)\n",
    "TrainingData1 = df1.as_matrix(columns=None)\n",
    "TestData = dftest.as_matrix(columns=['Y0', 'Y1'])"
   ]
  },
  {
   "cell_type": "markdown",
   "metadata": {},
   "source": [
    "It may be helpful to visualize the data."
   ]
  },
  {
   "cell_type": "code",
   "execution_count": 30,
   "metadata": {},
   "outputs": [
    {
     "data": {
      "image/png": "[encoded data removed]",
      "text/plain": [
       "<matplotlib.figure.Figure at 0xd653d30>"
      ]
     },
     "metadata": {},
     "output_type": "display_data"
    }
   ],
   "source": [
    "plt.plot(TrainingData0[:,0], TrainingData0[:,1], 'x', color='r')\n",
    "plt.plot(TrainingData1[:,0], TrainingData1[:,1], 'x', color='b')\n",
    "plt.plot(TestData[:,0], TestData[:,1], 'o', color='k')\n",
    "plt.axis('equal')\n",
    "plt.show()"
   ]
  },
  {
   "cell_type": "markdown",
   "metadata": {},
   "source": [
    "After creating an algorithm and generating labels, one should update the original CSV file."
   ]
  },
  {
   "cell_type": "code",
   "execution_count": 66,
   "metadata": {},
   "outputs": [
    {
     "name": "stdout",
     "output_type": "stream",
     "text": [
      "('Label0: , Label1: ', 2564, 2436)\n"
     ]
    }
   ],
   "source": [
    "# Idea behind the algorithm is to select the test point and take the closest 5 training points to that point.\n",
    "# If there are more than 3 points in proximity, that are labeled '0', the point in question is labeled '0'.\n",
    "# Else (i.e there are more than 4 points in proximity), that are labeled '1', the point in question is labeled '1'.\n",
    "# In case there is a tie (3 of '0' and 2 of '1'), I pick the next closest training point (number 6), for the tie break.\n",
    "# The numbers are chosen considering the split of the training data provided.\n",
    "\n",
    "Training_Array = np.append(TrainingData0, TrainingData1, axis=0);\n",
    "\n",
    "new_c0 = 0;\n",
    "new_c1 = 0;\n",
    "\n",
    "\n",
    "num_data_points = TestData.shape[0];\n",
    "num_training_points = Training_Array.shape[0];\n",
    "Soln_Array = np.zeros((num_data_points,3));\n",
    "estimation = np.zeros((num_data_points,1));\n",
    "\n",
    "for i in range(num_data_points):\n",
    "    y0 = TestData[i,0];\n",
    "    y1 = TestData[i,1];\n",
    "    Distance_Vector = np.zeros((num_training_points,2));\n",
    "    B = np.zeros((6,2));\n",
    "    count_0 = 0;\n",
    "    count_1 = 0;\n",
    "    for j in range(num_training_points):\n",
    "        x0 = Training_Array[j,0];\n",
    "        x1 = Training_Array[j,1];\n",
    "        dist = math.sqrt((x0 - y0)**2 + (x1 - y1)**2);\n",
    "        Distance_Vector[j,0] = dist;\n",
    "        Distance_Vector[j,1] = Training_Array[j,2];\n",
    "    A = Distance_Vector[:,0];\n",
    "    min_idx = np.argpartition(A,6);\n",
    "    for p in range(6):\n",
    "        B[p,0] = Distance_Vector[min_idx[p],0:1];\n",
    "        B[p,1] = Distance_Vector[min_idx[p],1];\n",
    "    \n",
    "    B.sort(axis = 0);\n",
    "    \n",
    "        \n",
    "    for l in range(5):\n",
    "        if B[l,1] == 0:\n",
    "            count_0 = count_0 + 1;\n",
    "        else:\n",
    "            count_1 = count_1 + 1;\n",
    "                    \n",
    "    Soln_Array[i,0] = y0;\n",
    "    Soln_Array[i,1] = y1;\n",
    "    \n",
    "    if count_0 > 3:\n",
    "        Soln_Array[i,2] = 0;\n",
    "        new_c0 = new_c0 + 1;\n",
    "        estimation[i] = 0;\n",
    "    elif count_1 > 2:\n",
    "        Soln_Array[i,2] = 1;\n",
    "        new_c1 = new_c1 + 1;\n",
    "        estimation[i] = 1;\n",
    "    else:        # Tie Break\n",
    "        Soln_Array[i,2] = B[5,1];\n",
    "        if Soln_Array[i,2] == 0:\n",
    "            estimation[i] = 0;\n",
    "            new_c0 = new_c0 + 1;\n",
    "        else:\n",
    "            estimation[i] = 1;\n",
    "            new_c1 = new_c1 + 1;\n",
    "    \n",
    "    \n",
    "Temp_Data_Array = np.append(TestData,estimation,axis=1);\n",
    "Array = np.append(Training_Array,Temp_Data_Array,axis=0);\n",
    "print (\"Label0: , Label1: \", new_c0, new_c1);\n",
    "\n",
    "\n",
    "\n",
    "            \n",
    "    \n",
    "\n",
    "\n",
    "\n",
    "    \n",
    "    \n",
    "    \n",
    "    \n"
   ]
  },
  {
   "cell_type": "code",
   "execution_count": 67,
   "metadata": {},
   "outputs": [],
   "source": [
    "dfupdate = pd.DataFrame({'Y0':Array[:,0],'Y1':Array[:,1],'label':Array[:,2]});\n",
    "dfupdate.to_csv(\"1challenge.csv\")"
   ]
  },
  {
   "cell_type": "code",
   "execution_count": null,
   "metadata": {
    "collapsed": true
   },
   "outputs": [],
   "source": []
  }
 ],
 "metadata": {
  "kernelspec": {
   "display_name": "Python 2",
   "language": "python",
   "name": "python2"
  },
  "language_info": {
   "codemirror_mode": {
    "name": "ipython",
    "version": 2
   },
   "file_extension": ".py",
   "mimetype": "text/x-python",
   "name": "python",
   "nbconvert_exporter": "python",
   "pygments_lexer": "ipython2",
   "version": "2.7.13"
  }
 },
 "nbformat": 4,
 "nbformat_minor": 2
}
