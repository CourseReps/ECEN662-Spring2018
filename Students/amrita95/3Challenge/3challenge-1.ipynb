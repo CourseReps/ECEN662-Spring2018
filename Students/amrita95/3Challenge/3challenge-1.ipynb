{
 "cells": [
  {
   "cell_type": "markdown",
   "metadata": {},
   "source": [
    "# Challenge 3: Parameter Estimation 1"
   ]
  },
  {
   "cell_type": "markdown",
   "metadata": {},
   "source": [
    "The first step is to import relevant libraries."
   ]
  },
  {
   "cell_type": "code",
   "execution_count": 2,
   "metadata": {
    "collapsed": true
   },
   "outputs": [],
   "source": [
    "import pandas as pd\n",
    "import numpy as np"
   ]
  },
  {
   "cell_type": "markdown",
   "metadata": {},
   "source": [
    "The second step is to import data from the given file."
   ]
  },
  {
   "cell_type": "code",
   "execution_count": 6,
   "metadata": {},
   "outputs": [
    {
     "name": "stdout",
     "output_type": "stream",
     "text": [
      "(5000, 9)\n(5000, 9)\n     Y0    Y1    Y2    Y3    Y4    Y5    Y6    Y7     label\n0   0.0   3.0   1.0   3.0   0.0   3.0   2.0   0.0  0.043358\n1   8.0   5.0   7.0   7.0   4.0   6.0   6.0   8.0  0.201109\n2   6.0   3.0   2.0   6.0   3.0   3.0   6.0   4.0  0.136372\n3  12.0  16.0  12.0  16.0  12.0  16.0  13.0  15.0  0.369622\n4   5.0   4.0   5.0   5.0   4.0   4.0   7.0   4.0  0.106446\n        Y0    Y1    Y2    Y3    Y4    Y5    Y6    Y7  label\n5000   3.0   3.0   7.0   2.0   4.0   0.0   4.0   2.0    NaN\n5001  14.0   6.0  12.0   5.0   6.0   7.0   5.0   7.0    NaN\n5002  13.0  15.0  10.0  14.0  10.0  15.0  12.0  17.0    NaN\n5003   9.0  15.0  13.0   7.0   6.0  11.0  12.0  13.0    NaN\n5004  17.0  18.0  18.0  20.0  19.0  21.0  13.0  21.0    NaN\n"
     ]
    }
   ],
   "source": [
    "df = pd.DataFrame.from_csv(\"/home/amrita95/Documents/ECEN662-Spring2018-master/Students/amrita95/3Challenge/3challenge-1.csv\")\n",
    "dftraining = df.loc[~np.isnan(df['label'])]\n",
    "dftesting = df.loc[np.isnan(df['label'])]\n",
    "print(dftraining.shape)\n",
    "print(dftesting.shape)\n",
    "print(dftraining.head())\n",
    "print(dftesting.head())"
   ]
  },
  {
   "cell_type": "markdown",
   "metadata": {},
   "source": [
    "One can use the data in their original Pandas DataFrame format, or one can transform these objects into Numpy-arrays."
   ]
  },
  {
   "cell_type": "code",
   "execution_count": 17,
   "metadata": {
    "collapsed": true
   },
   "outputs": [
    {
     "name": "stdout",
     "output_type": "stream",
     "text": [
      "(5000, 9)\n(5000,)\nMean Squared Error on training data = 0.000549\n"
     ]
    }
   ],
   "source": [
    "TrainingData = dftraining.as_matrix(columns=None)\n",
    "TestData = dftesting.as_matrix(columns=['Y0', 'Y1', 'Y2', 'Y3', 'Y4', 'Y5', 'Y6', 'Y7'])\n",
    "#print(TestData[0:5])\n",
    "\n",
    "print(np.shape(dftesting))\n",
    "print(np.shape(np.sum(dftesting.values[:,0:7],1)))\n",
    "dftesting.values[:,8] = (1 + np.sum(dftesting.values[:,0:7],1))/325\n",
    "dfnew = dftraining.append(dftesting)\n",
    "training_pts = TrainingData.shape[0]\n",
    "sq_sum = 0\n",
    "for i in range(TrainingData.shape[0]):\n",
    "    v=0\n",
    "    for j in range(TrainingData.shape[1]-1):\n",
    "        v=v+TrainingData[i][j]\n",
    "    est=(v+2)/327\n",
    "    diff=(est-TrainingData[i][8]) \n",
    "    sq_sum=sq_sum+(diff*diff)\n",
    "    \n",
    "MSE = sq_sum/training_pts\n",
    "print(\"Mean Squared Error on training data = %f\" % MSE)\n"
   ]
  },
  {
   "cell_type": "markdown",
   "metadata": {},
   "source": [
    "After creating an algorithm and generating labels, one should update the original CSV file."
   ]
  },
  {
   "cell_type": "code",
   "execution_count": 20,
   "metadata": {},
   "outputs": [],
   "source": [
    "df = pd.concat([dftraining, dftesting], join='outer', ignore_index=True)\n",
    "df.to_csv(\"/home/amrita95/Documents/ECEN662-Spring2018-master/Students/amrita95/3Challenge/3challenge-1.csv\")"
   ]
  },
  {
   "cell_type": "code",
   "execution_count": 21,
   "metadata": {},
   "outputs": [
    {
     "name": "stdout",
     "output_type": "stream",
     "text": [
      "(5000, 9)\n(5000, 9)\n"
     ]
    }
   ],
   "source": [
    "df = pd.DataFrame.from_csv(\"/home/amrita95/Documents/ECEN662-Spring2018-master/Students/amrita95/3Challenge/3challenge-1.csv\")\n",
    "dftraining = df.loc[~np.isnan(df['label'])]\n",
    "dftesting = df.loc[np.isnan(df['label'])]\n",
    "print(dftraining.shape)\n",
    "print(dftesting.shape)\n"
   ]
  },
  {
   "cell_type": "code",
   "execution_count": null,
   "metadata": {},
   "outputs": [],
   "source": []
  }
 ],
 "metadata": {
  "kernelspec": {
   "display_name": "Python 3",
   "language": "python",
   "name": "python3"
  },
  "language_info": {
   "codemirror_mode": {
    "name": "ipython",
    "version": 3
   },
   "file_extension": ".py",
   "mimetype": "text/x-python",
   "name": "python",
   "nbconvert_exporter": "python",
   "pygments_lexer": "ipython3",
   "version": "3.6.1"
  }
 },
 "nbformat": 4,
 "nbformat_minor": 2
}
