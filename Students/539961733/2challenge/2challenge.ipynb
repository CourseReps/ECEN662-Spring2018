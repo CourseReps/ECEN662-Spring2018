{
 "cells": [
  {
   "cell_type": "code",
   "execution_count": 1,
   "metadata": {},
   "outputs": [
    {
     "name": "stdout",
     "output_type": "stream",
     "text": [
      "(5727, 9)\n",
      "(9273, 9)\n",
      "(0, 9)\n"
     ]
    }
   ],
   "source": [
    "import pandas as pd\n",
    "import numpy as np\n",
    "df = pd.DataFrame.from_csv(\"2challenge.csv\")\n",
    "df0 = df.loc[df['label'] == 0.0]\n",
    "df1 = df.loc[df['label'] == 1.0]\n",
    "dftest = df.loc[~((df['label'] == 0.0) | (df['label'] == 1.0))]\n",
    "print(df0.shape)\n",
    "print(df1.shape)\n",
    "print(dftest.shape)\n",
    "TrainingData0 = df0.as_matrix(columns=None)\n",
    "TrainingData1 = df1.as_matrix(columns=None)\n",
    "TestData = dftest.as_matrix(columns=['Y0', 'Y1', 'Y2', 'Y3', 'Y4', 'Y5', 'Y6', 'Y7'])"
   ]
  },
  {
   "cell_type": "code",
   "execution_count": 2,
   "metadata": {
    "collapsed": true
   },
   "outputs": [],
   "source": [
    "#distinguish the 6 length training data and 8 length training data whose tags are 1\n",
    "TrainingData17=TrainingData15=TrainingData1\n",
    "index =0\n",
    "index15=[]\n",
    "index17=[]\n",
    "while index <5000:\n",
    "    if  TrainingData1[index, 6]>0:\n",
    "      index15.append(index)\n",
    "    else:\n",
    "      index17.append(index)\n",
    "    index = index +1\n",
    "TrainingData15=np.delete(TrainingData15,index15,axis=0)\n",
    "TrainingData17=np.delete(TrainingData17,index17,axis=0)"
   ]
  },
  {
   "cell_type": "code",
   "execution_count": 3,
   "metadata": {},
   "outputs": [
    {
     "name": "stdout",
     "output_type": "stream",
     "text": [
      "tag 0 length 7 is 3234\n",
      "tag 0 length 5 is 3220\n",
      "tag 1 length 7 is 6770\n",
      "tag 1 length 5 is 6776\n"
     ]
    }
   ],
   "source": [
    "#distinguish the 6 length training data and 8 length training data whose tags are 0\n",
    "TrainingData07=TrainingData05=TrainingData0\n",
    "index =0\n",
    "index05=[]\n",
    "index07=[]\n",
    "while index <5000:\n",
    "    if  TrainingData0[index, 6]>0:\n",
    "      index05.append(index)\n",
    "    else:\n",
    "      index07.append(index)\n",
    "    index = index +1\n",
    "TrainingData05=np.delete(TrainingData05,index05,axis=0)\n",
    "TrainingData07=np.delete(TrainingData07,index07,axis=0)\n",
    "print('tag 0 length 7 is '+str(len(TrainingData07[: ,0])))\n",
    "print('tag 0 length 5 is '+str(len(TrainingData05[: ,0])))\n",
    "print('tag 1 length 7 is '+str(len(TrainingData17[: ,0])))\n",
    "print('tag 1 length 5 is '+str(len(TrainingData15[: ,0])))"
   ]
  },
  {
   "cell_type": "code",
   "execution_count": 9,
   "metadata": {},
   "outputs": [],
   "source": [
    "#distinguish the 6 length test data and 8 length test data\n",
    "TestData7=TestData5=TestData\n",
    "index =0\n",
    "index05=[]\n",
    "index07=[]\n",
    "while index <5000:\n",
    "    if  TestData[index, 6]>0:\n",
    "      index05.append(index)\n",
    "    else:\n",
    "      index07.append(index)\n",
    "    index = index +1\n",
    "TestData5=np.delete(TestData5,index05,axis=0)\n",
    "TestData7=np.delete(TestData7,index07,axis=0)"
   ]
  },
  {
   "cell_type": "code",
   "execution_count": null,
   "metadata": {
    "collapsed": true
   },
   "outputs": [],
   "source": [
    "#use KNN to predict data whose length is 8\n",
    "from sklearn.neighbors import KNeighborsClassifier\n",
    "model=KNeighborsClassifier(n_neighbors=2)\n",
    "trainSet7=np.append(TrainingData07,TrainingData17,axis=0)\n",
    "model.fit(trainSet7[:,0:8], trainSet7[:,8])\n",
    "predictedSet7=np.zeros((len(TestData7[:,0]),1))    #set the original set\n",
    "predictedSet7[:,0]= model.predict(TestData7)\n",
    "testResult7=np.append(TestData7,predictedSet7,axis=1)"
   ]
  },
  {
   "cell_type": "code",
   "execution_count": null,
   "metadata": {
    "collapsed": true
   },
   "outputs": [],
   "source": [
    "#use KNN to predict data whose length is 6\n",
    "model=KNeighborsClassifier(n_neighbors=2)\n",
    "trainSet5=np.append(TrainingData05,TrainingData15,axis=0)\n",
    "model.fit(trainSet5[:,0:6], trainSet5[:,8])\n",
    "predictedSet5=np.zeros((len(TestData5[:,0]),1))    #set the original set\n",
    "predictedSet5[:,0]= model.predict(TestData5[:,0:6])\n",
    "testResult5=np.append(TestData5,predictedSet5,axis=1)"
   ]
  },
  {
   "cell_type": "code",
   "execution_count": null,
   "metadata": {
    "collapsed": true
   },
   "outputs": [],
   "source": [
    "#print out result\n",
    "testResult=np.append(testResult5,testResult7,axis=0)\n",
    "trainingdata=np.append(TrainingData0,TrainingData1,axis=0)\n",
    "Array=np.append(trainingdata,testResult,axis=0)\n",
    "print('Array :')\n",
    "print(len(Array[:,0]))\n",
    "dfnew=pd.DataFrame({'Y0':Array[:,0],'Y1':Array[:,1],'Y2':Array[:,2],'Y3':Array[:,3],'Y4':Array[:,4],'Y5':Array[:,5],'Y6':Array[:,6],'Y7':Array[:,7],'label':Array[:,8]})\n",
    "dfnew.to_csv(\"2challenge.csv\")\n"
   ]
  }
 ],
 "metadata": {
  "kernelspec": {
   "display_name": "Python 3",
   "language": "python",
   "name": "python3"
  },
  "language_info": {
   "codemirror_mode": {
    "name": "ipython",
    "version": 3
   },
   "file_extension": ".py",
   "mimetype": "text/x-python",
   "name": "python",
   "nbconvert_exporter": "python",
   "pygments_lexer": "ipython3",
   "version": "3.6.1"
  }
 },
 "nbformat": 4,
 "nbformat_minor": 2
}
