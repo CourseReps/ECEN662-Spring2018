{
 "cells": [
  {
   "cell_type": "markdown",
   "metadata": {},
   "source": [
    "# Challenge 3: Parameter Estimation 1"
   ]
  },
  {
   "cell_type": "markdown",
   "metadata": {},
   "source": [
    "The first step is to import relevant libraries."
   ]
  },
  {
   "cell_type": "code",
   "execution_count": 1,
   "metadata": {
    "collapsed": true
   },
   "outputs": [],
   "source": [
    "import pandas as pd\n",
    "import numpy as np"
   ]
  },
  {
   "cell_type": "markdown",
   "metadata": {},
   "source": [
    "The second step is to import data from the given file."
   ]
  },
  {
   "cell_type": "code",
   "execution_count": 3,
   "metadata": {},
   "outputs": [
    {
     "name": "stdout",
     "output_type": "stream",
     "text": [
      "(5000, 9)\n",
      "(5000, 9)\n"
     ]
    }
   ],
   "source": [
    "df = pd.DataFrame.from_csv(\"3challenge-1.csv\")\n",
    "dftraining = df.loc[~np.isnan(df['label'])]\n",
    "dftesting = df.loc[np.isnan(df['label'])]\n",
    "print(dftraining.shape)\n",
    "print(dftesting.shape)"
   ]
  },
  {
   "cell_type": "markdown",
   "metadata": {},
   "source": [
    "One can use the data in their original Pandas DataFrame format, or one can transform these objects into Numpy-arrays."
   ]
  },
  {
   "cell_type": "code",
   "execution_count": 4,
   "metadata": {
    "collapsed": true
   },
   "outputs": [],
   "source": [
    "TrainingData = dftraining.as_matrix(columns=None)\n",
    "TestData = dftesting.as_matrix(columns=['Y0', 'Y1', 'Y2', 'Y3', 'Y4', 'Y5', 'Y6', 'Y7'])"
   ]
  },
  {
   "cell_type": "markdown",
   "metadata": {},
   "source": [
    "After creating an algorithm and generating labels, one should update the original CSV file."
   ]
  },
  {
   "cell_type": "markdown",
   "metadata": {},
   "source": [
    "$\\because$ $X_i$~$Binomial(40,\\theta)$, $X_i$ and $X_j$ are independent when $i \\neq j$, \n",
    "\n",
    "$\\therefore$ $p_{X_i}(x)={40\\choose x}\\theta^{x}(1-\\theta)^{40-x}=\\frac{40!}{x!(40-x)!}\\theta^{x}(1-\\theta)^{40-x}$,    \n",
    "\n",
    "$\\therefore$ $p_{\\underline X}(\\underline x)=\\prod_{i=1}^8p_{X_i}(x_i)=(40!)^8{(\\prod_{i=1}^8x_i!(40-x_i)!)^{-1}}(1-\\theta)^{320}{(\\frac{\\theta}{1-\\theta})}^{\\sum_{i=1}^8X_i}  \n",
    "=h(\\underline x)g(T(\\underline x)|\\theta)$, \n",
    "\n",
    "$\\ \\ $ where $h(\\underline x)=(40!)^8{(\\prod_{i=1}^8x_i!(40-x_i)!)^{-1}}$, $g(t|\\theta)=(1-\\theta)^{320}{(\\frac{\\theta}{1-\\theta})}^t$, $T(\\underline x)=\\sum_{i=1}^8X_i$,\n",
    "\n",
    "$\\therefore$ $T(\\underline x)=\\sum_{i=1}^8X_i$ is a sufficient statistic for $\\theta$.\n",
    "\n",
    "$\\because$ $\\theta$~$Beta(2,5)$, $\\therefore$ $\\theta \\in[0,1]$.\n",
    "\n",
    "$\\because$ $T(\\underline x)=(\\sum_{i=1}^8X_i)$~$Binomial(320,\\theta)$,\n",
    "\n",
    "$\\therefore$ $E_\\theta [g(T)] = \\sum_{t=0}^{320}g(t)\\frac{320!}{t!(320-t)!}(1-\\theta)^{320}(\\frac{\\theta}{1-\\theta})^t$ is a polynomial of $\\frac{\\theta}{1-\\theta}$ when $\\theta \\in(0,1)$,\n",
    "\n",
    "$\\ \\ $ $E_0[g(T)] = g(0)$ and $P_0(T=0)=1$ when $\\theta = 0$, $E_1[g(T)] = g(320)$ and $P_1(T=320)=1$ when $\\theta = 1$,\n",
    "\n",
    "$\\therefore$ $E_\\theta [g(T)] = 0$ for all $\\theta$\n",
    "\n",
    "$\\Rightarrow \\ P_{\\theta}(g(T)=0) = 1$ when $\\theta \\in (0,1)$, $P_0(g(T)=0) = P_0(g(0)=0)P_0(T=0) = 1$, $P_1(g(T)=0) = P_1(g(320)=0)P_1(T=320) = 1$,\n",
    "\n",
    "$\\Rightarrow \\ P_{\\theta}(g(T)=0) = 1$ for all $\\theta$,\n",
    "\n",
    "$\\therefore$ $T(\\underline x)=\\sum_{i=1}^8X_i$ is a complete statistic.\n",
    "\n",
    "Suppose $\\theta '(\\underline X) = \\frac{1}{320}\\sum_{i=1}^8X_i$, \n",
    "\n",
    "then $E[\\theta '(\\underline X)] = \\frac{1}{8}\\sum_{\\mathcal{X}}(\\sum_{i=1}^8\\frac{X_i}{40})p_{\\underline X}(\\underline x)=\\frac{1}{8}\\sum_{i=1}^8(\\sum_{x_i=0}^{40}\\frac{X_i}{40}p_{X_i}(x_i))(\\sum_{\\mathcal{X}/\\mathcal{X}_i}\\prod_{j=1,j\\neq i}^8p_{X_j}(x_j))=\\frac{1}{8}\\sum_{i=1}^8\\theta \\times 1 = \\theta$,\n",
    "\n",
    "$\\therefore\\ \\theta '(\\underline X)$ is an unbiased estimator of $\\theta$,\n",
    "\n",
    "$\\therefore\\ \\theta \"(\\underline X) = \\frac{1}{320}\\sum_{i=1}^8X_i$ is a MVU estimator of $\\theta$."
   ]
  },
  {
   "cell_type": "code",
   "execution_count": 5,
   "metadata": {},
   "outputs": [
    {
     "name": "stdout",
     "output_type": "stream",
     "text": [
      "The approximation of the mean-squared error is about 0.000561.\n"
     ]
    }
   ],
   "source": [
    "Test_Label = 1/40*np.average(TestData,axis=1)            # estimate the theta by the statistic from above\n",
    "TestData_1 = np.c_[TestData,Test_Label]\n",
    "dftesting_1 = pd.DataFrame(TestData_1,columns = ['Y0', 'Y1', 'Y2', 'Y3', 'Y4', 'Y5', 'Y6', 'Y7','label'] )\n",
    "#******************************** Variation Testing ***************************************\n",
    "TrainingData_est = 1/40*np.average(TrainingData[:,0:8],axis=1) \n",
    "Var = np.average((TrainingData_est - TrainingData[:,8])**2)\n",
    "print(\"The approximation of the mean-squared error is about %.6f.\" % Var)"
   ]
  },
  {
   "cell_type": "code",
   "execution_count": 6,
   "metadata": {
    "collapsed": true
   },
   "outputs": [],
   "source": [
    "df = pd.concat([dftraining, dftesting_1], join='outer', ignore_index=True)\n",
    "df.to_csv(\"3challenge-1.csv\")"
   ]
  }
 ],
 "metadata": {
  "kernelspec": {
   "display_name": "Python 3",
   "language": "python",
   "name": "python3"
  },
  "language_info": {
   "codemirror_mode": {
    "name": "ipython",
    "version": 3
   },
   "file_extension": ".py",
   "mimetype": "text/x-python",
   "name": "python",
   "nbconvert_exporter": "python",
   "pygments_lexer": "ipython3",
   "version": "3.6.1"
  }
 },
 "nbformat": 4,
 "nbformat_minor": 2
}
