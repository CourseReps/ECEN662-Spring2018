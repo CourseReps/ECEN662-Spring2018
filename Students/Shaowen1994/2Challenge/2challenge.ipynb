{
 "cells": [
  {
   "cell_type": "markdown",
   "metadata": {},
   "source": [
    "# Challenge 2"
   ]
  },
  {
   "cell_type": "markdown",
   "metadata": {},
   "source": [
    "The first step is to import relevant libraries."
   ]
  },
  {
   "cell_type": "code",
   "execution_count": 1,
   "metadata": {
    "collapsed": true
   },
   "outputs": [],
   "source": [
    "import pandas as pd\n",
    "import numpy as np\n",
    "import matplotlib.pyplot as plt"
   ]
  },
  {
   "cell_type": "markdown",
   "metadata": {},
   "source": [
    "The second step is to import data from the given file."
   ]
  },
  {
   "cell_type": "code",
   "execution_count": 12,
   "metadata": {
    "scrolled": true
   },
   "outputs": [
    {
     "name": "stdout",
     "output_type": "stream",
     "text": [
      "(5000, 9)\n",
      "(2507, 9)\n",
      "(2493, 9)\n",
      "(5000, 9)\n",
      "(2497, 9)\n",
      "(2503, 9)\n",
      "(5000, 9)\n",
      "(2548, 9)\n",
      "(2452, 9)\n"
     ]
    }
   ],
   "source": [
    "df = pd.DataFrame.from_csv(\"2challenge.csv\")\n",
    "df0 = df.loc[df['label'] == 0.0]\n",
    "df0 = df.loc[df['label'] == 1.0]\n",
    "dftest = df.loc[~((df['label'] == 0.0) | (df['label'] == 1.0))]\n",
    "df0_a = df.loc[(df['label'] == 0.0) & ((df['Y6'] >= 0) | (df['Y7'] < 0))]\n",
    "df0_b = df.loc[(df['label'] == 0.0) & (~((df['Y6'] >= 0) | (df['Y7'] < 0)))]\n",
    "df1_a = df.loc[(df['label'] == 1.0) & ((df['Y6'] >= 0) | (df['Y7'] < 0))]\n",
    "df1_b = df.loc[(df['label'] == 1.0) & (~((df['Y6'] >= 0) | (df['Y7'] < 0)))]\n",
    "dftest_a = df.loc[~((df['label'] == 0.0) | (df['label'] == 1.0)) & ((df['Y6'] >= 0) | (df['Y7'] < 0))]\n",
    "dftest_b = df.loc[~((df['label'] == 0.0) | (df['label'] == 1.0)) & (~((df['Y6'] >= 0) | (df['Y7'] < 0)))]\n",
    "print(df0.shape)\n",
    "print(df0_a.shape)\n",
    "print(df0_b.shape)\n",
    "print(df1.shape)\n",
    "print(df1_a.shape)\n",
    "print(df1_b.shape)\n",
    "print(dftest.shape)\n",
    "print(dftest_a.shape)\n",
    "print(dftest_b.shape)"
   ]
  },
  {
   "cell_type": "markdown",
   "metadata": {},
   "source": [
    "One can use the data in their original Pandas DataFrame format, or one can transform these objects into Numpy-arrays."
   ]
  },
  {
   "cell_type": "code",
   "execution_count": 79,
   "metadata": {
    "collapsed": true
   },
   "outputs": [],
   "source": [
    "TrainingData0 = df0.as_matrix(columns=None)\n",
    "TrainingData1 = df1.as_matrix(columns=None)\n",
    "TrainingData0_a = df0_a.as_matrix(columns=None)\n",
    "TrainingData1_a = df1_a.as_matrix(columns=None)\n",
    "TestData = dftest.as_matrix(columns=['Y0', 'Y1','Y2','Y3','Y4','Y5','Y6','Y7'])\n",
    "TestData_a = dftest_a.as_matrix(columns=['Y0', 'Y1','Y2','Y3','Y4','Y5','Y6','Y7'])"
   ]
  },
  {
   "cell_type": "markdown",
   "metadata": {},
   "source": [
    "After creating an algorithm and generating labels, one should update the original CSV file."
   ]
  },
  {
   "cell_type": "code",
   "execution_count": 80,
   "metadata": {
    "scrolled": false
   },
   "outputs": [],
   "source": [
    "def gaussian(data):   \n",
    "    mean = np.mean(data)\n",
    "    var = np.var(data)\n",
    "    x = np.arange(min(data),max(data),0.01)\n",
    "    y = np.exp(-(x-mean)**2/(2*var))/(np.sqrt(2*np.pi*var))\n",
    "    return x,y"
   ]
  },
  {
   "cell_type": "code",
   "execution_count": 81,
   "metadata": {},
   "outputs": [
    {
     "data": {
      "image/png": "[encoded data removed]",
      "text/plain": [
       "<matplotlib.figure.Figure at 0x133d9b4b710>"
      ]
     },
     "metadata": {},
     "output_type": "display_data"
    }
   ],
   "source": [
    "#************* Ditribution of data with label \"0\"*************\n",
    "plt.subplot(241)\n",
    "plt.hist(TrainingData0[:,0],200,normed=1,color='b',alpha=.5)\n",
    "x,y = gaussian(TrainingData0[:,0])\n",
    "plt.plot(x,y,color='k')\n",
    "plt.subplot(242)\n",
    "plt.hist(TrainingData0[:,1],200,normed=1,color='g',alpha=.5)\n",
    "x,y = gaussian(TrainingData0[:,1])\n",
    "plt.plot(x,y,color='k')\n",
    "plt.subplot(243)\n",
    "plt.hist(TrainingData0[:,2],200,normed=1,color='r',alpha=.5)\n",
    "x,y = gaussian(TrainingData0[:,2])\n",
    "plt.plot(x,y,color='k')\n",
    "plt.subplot(244)\n",
    "plt.hist(TrainingData0[:,3],200,normed=1,color='y',alpha=.5)\n",
    "x,y = gaussian(TrainingData0[:,3])\n",
    "plt.plot(x,y,color='k')\n",
    "plt.subplot(245)\n",
    "plt.hist(TrainingData0[:,4],200,normed=1,color='b',alpha=.5)\n",
    "x,y = gaussian(TrainingData0[:,4])\n",
    "plt.plot(x,y,color='k')\n",
    "plt.subplot(246)\n",
    "plt.hist(TrainingData0[:,5],200,normed=1,color='g',alpha=.5)\n",
    "x,y = gaussian(TrainingData0[:,5])\n",
    "plt.plot(x,y,color='k')\n",
    "plt.subplot(247)\n",
    "plt.hist(TrainingData0_a[:,6],200,normed=1,color='r',alpha=.5)\n",
    "x,y = gaussian(TrainingData0_a[:,6])\n",
    "plt.plot(x,y,color='k')\n",
    "plt.subplot(248)\n",
    "plt.hist(TrainingData0_a[:,7],200,normed=1,color='y',alpha=.5)\n",
    "x,y = gaussian(TrainingData0_a[:,7])\n",
    "plt.plot(x,y,color='k')\n",
    "\n",
    "plt.show()"
   ]
  },
  {
   "cell_type": "code",
   "execution_count": 82,
   "metadata": {},
   "outputs": [
    {
     "data": {
      "image/png": "[encoded data removed]",
      "text/plain": [
       "<matplotlib.figure.Figure at 0x133d73adf60>"
      ]
     },
     "metadata": {},
     "output_type": "display_data"
    }
   ],
   "source": [
    "#************* Ditribution of data with label \"1\"*************\n",
    "plt.subplot(241)\n",
    "plt.hist(TrainingData1[:,0],200,normed=1,color='b',alpha=.5)\n",
    "x,y = gaussian(TrainingData1[:,0])\n",
    "plt.plot(x,y,color='k')\n",
    "plt.subplot(242)\n",
    "plt.hist(TrainingData1[:,1],200,normed=1,color='g',alpha=.5)\n",
    "x,y = gaussian(TrainingData1[:,1])\n",
    "plt.plot(x,y,color='k')\n",
    "plt.subplot(243)\n",
    "plt.hist(TrainingData1[:,2],200,normed=1,color='r',alpha=.5)\n",
    "x,y = gaussian(TrainingData1[:,2])\n",
    "plt.plot(x,y,color='k')\n",
    "plt.subplot(244)\n",
    "plt.hist(TrainingData1[:,3],200,normed=1,color='y',alpha=.5)\n",
    "x,y = gaussian(TrainingData1[:,3])\n",
    "plt.plot(x,y,color='k')\n",
    "plt.subplot(245)\n",
    "plt.hist(TrainingData1[:,4],200,normed=1,color='b',alpha=.5)\n",
    "x,y = gaussian(TrainingData1[:,4])\n",
    "plt.plot(x,y,color='k')\n",
    "plt.subplot(246)\n",
    "plt.hist(TrainingData1[:,5],200,normed=1,color='g',alpha=.5)\n",
    "x,y = gaussian(TrainingData1[:,5])\n",
    "plt.plot(x,y,color='k')\n",
    "plt.subplot(247)\n",
    "plt.hist(TrainingData1_a[:,6],200,normed=1,color='r',alpha=.5)\n",
    "x,y = gaussian(TrainingData1_a[:,6])\n",
    "plt.plot(x,y,color='k')\n",
    "plt.subplot(248)\n",
    "plt.hist(TrainingData1_a[:,7],200,normed=1,color='y',alpha=.5)\n",
    "x,y = gaussian(TrainingData1_a[:,7])\n",
    "plt.plot(x,y,color='k')\n",
    "\n",
    "plt.show()"
   ]
  },
  {
   "cell_type": "markdown",
   "metadata": {},
   "source": [
    "From above we can see that we can regard the probability distribution of the features as the Gaussian Distribution respectively."
   ]
  },
  {
   "cell_type": "code",
   "execution_count": 86,
   "metadata": {
    "scrolled": true
   },
   "outputs": [
    {
     "data": {
      "text/plain": [
       "'\\ndef distribution_0(x,y):   #probability distribution of patern 0\\n    prob = gaussian_2d(x,y,TrainingData0[:,0],TrainingData0[:,1])    \\n    return prob\\ndef distribution_1(x,y):   #probability distribution of patern 1\\n    prob = gaussian_2d(x,y,TrainingData1[:,0],TrainingData1[:,1])    \\n    return prob\\n\\nTestData_1  = np.c_[TestData,label]\\n'"
      ]
     },
     "execution_count": 86,
     "metadata": {},
     "output_type": "execute_result"
    }
   ],
   "source": [
    "pos_ratio = 1\n",
    "label = np.ones(len(TestData[:,0]))\n",
    "\n",
    "mean = np.ones((2,8))\n",
    "var = np.ones((2,8))\n",
    "for j in range(0,6):\n",
    "    mean[0,j] = np.mean(TrainingData0[:,j])\n",
    "    var[0,j] = np.var(TrainingData0[:,j])\n",
    "for j in range(0,6):\n",
    "    mean[1,j] = np.mean(TrainingData1[:,j])\n",
    "    var[1,j] = np.var(TrainingData1[:,j])\n",
    "for j in range(6,8):\n",
    "    mean[0,j] = np.mean(TrainingData0_a[:,j])\n",
    "    var[0,j] = np.var(TrainingData0_a[:,j])\n",
    "for j in range(6,8):\n",
    "    mean[1,j] = np.mean(TrainingData1_a[:,j])\n",
    "    var[1,j] = np.var(TrainingData1_a[:,j])\n",
    "\n",
    "def normal(x,u,v):   # Caculate the probability of X = x in Gaussian Distribution, mean = u, variance = z\n",
    "    prob = np.exp(-(x-u)**2/(2*v))/(np.sqrt(2*np.pi*v))\n",
    "    return prob\n",
    "\n",
    "#**************** Classifier of 6 features *******************\n",
    "def gaussian_6d_0(x):\n",
    "    prob = 1\n",
    "    for j in range(0,5):\n",
    "        prob = prob * normal(x[j],mean[0,j],var[0,j])\n",
    "    return prob\n",
    "\n",
    "def gaussian_6d_1(x):\n",
    "    prob = 1\n",
    "    for j in range(0,5):\n",
    "        prob = prob * normal(x[j],mean[1,j],var[1,j])\n",
    "    return prob\n",
    "\n",
    "for i in range (0,len(TestData[:,0])):\n",
    "    if  gaussian_6d_1(TestData[i,:]) / gaussian_6d_0(TestData[i,:]) >= pos_ratio:\n",
    "        label[i] = 1\n",
    "    else:\n",
    "        label[i] = 0 "
   ]
  },
  {
   "cell_type": "code",
   "execution_count": 103,
   "metadata": {},
   "outputs": [
    {
     "name": "stdout",
     "output_type": "stream",
     "text": [
      "The Bayes error of this classifier is about  9.24  %\n"
     ]
    }
   ],
   "source": [
    "#************************* Error Estimation ***********************\n",
    "labelTest_0 = np.ones(len(TrainingData0[:,0]))\n",
    "labelTest_1 = np.ones(len(TrainingData1[:,0]))\n",
    "wrong = 0\n",
    "for i in range (0,len(TrainingData0[:,0])):\n",
    "    if  gaussian_6d_1(TrainingData0[i,:]) / gaussian_6d_0(TrainingData0[i,:]) >= pos_ratio:\n",
    "        labelTest_0[i] = 1\n",
    "    else:\n",
    "        labelTest_0[i] = 0 \n",
    "    if labelTest_0[i] != 0:\n",
    "        wrong = wrong + 1\n",
    "for i in range (0,len(TrainingData1[:,0])):\n",
    "    if  gaussian_6d_1(TrainingData1[i,:]) / gaussian_6d_0(TrainingData1[i,:]) >= pos_ratio:\n",
    "        labelTest_1[i] = 1\n",
    "    else:\n",
    "        labelTest_1[i] = 0 \n",
    "    if labelTest_1[i] != 1:\n",
    "        wrong = wrong + 1\n",
    "error = wrong/(len(TrainingData0[:,0])+len(TrainingData1[:,0]))*100\n",
    "print(\"The Bayes error of this classifier is about \",error,\" %\")"
   ]
  },
  {
   "cell_type": "code",
   "execution_count": 105,
   "metadata": {},
   "outputs": [
    {
     "name": "stdout",
     "output_type": "stream",
     "text": [
      "According to 8 features, the Bayes error of this classifier is about  10.84  %\n"
     ]
    }
   ],
   "source": [
    "#**************** Classifier of 8 features *******************\n",
    "label_8d = label\n",
    "\n",
    "def gaussian_8d_0(x):\n",
    "    prob = 1\n",
    "    for j in range(0,7):\n",
    "        prob = prob * normal(x[j],mean[0,j],var[0,j])\n",
    "    return prob\n",
    "\n",
    "def gaussian_8d_1(x):\n",
    "    prob = 1\n",
    "    for j in range(0,7):\n",
    "        prob = prob * normal(x[j],mean[1,j],var[1,j])\n",
    "    return prob\n",
    "\n",
    "for i in range (0,len(TestData[:,0])):\n",
    "    if (TestData[i,7]>0) or (TestData[i,7]<=0):\n",
    "        if  gaussian_8d_1(TestData[i,:]) / gaussian_8d_0(TestData[i,:]) >= pos_ratio:\n",
    "            label_8d[i] = 1\n",
    "        else:\n",
    "            label_8d[i] = 0 \n",
    "            \n",
    "labelTest_0_8d = labelTest_0\n",
    "labelTest_1_8d = labelTest_1\n",
    "wrong_8d = 0\n",
    "for i in range (0,len(TrainingData0[:,0])):\n",
    "    if (TrainingData0[i,7]>0) or (TrainingData0[i,7]<=0):\n",
    "        if  gaussian_8d_1(TrainingData0[i,:]) / gaussian_8d_0(TrainingData0[i,:]) >= pos_ratio:\n",
    "            labelTest_0_8d[i] = 1\n",
    "        else:\n",
    "            labelTest_0_8d[i] = 0 \n",
    "    if labelTest_0_8d[i] != 0:\n",
    "        wrong_8d = wrong_8d + 1\n",
    "        \n",
    "for i in range (0,len(TrainingData1[:,0])):\n",
    "    if (TrainingData1[i,7]>0) or (TrainingData1[i,7]<=0):\n",
    "        if  gaussian_8d_1(TrainingData1[i,:]) / gaussian_8d_0(TrainingData1[i,:]) >= pos_ratio:\n",
    "            labelTest_1_8d[i] = 1\n",
    "        else:\n",
    "            labelTest_1_8d[i] = 0 \n",
    "    if labelTest_1_8d[i] != 1:\n",
    "        wrong_8d = wrong_8d + 1\n",
    "        \n",
    "error_8d = wrong_8d/(len(TrainingData0[:,0])+len(TrainingData1[:,0]))*100\n",
    "print(\"According to 8 features, the Bayes error of this classifier is about \",error_8d,\" %\")"
   ]
  },
  {
   "cell_type": "markdown",
   "metadata": {},
   "source": [
    "From above we can see that we can get a smaller error when we just use 6 features. That is to say, the label fits better than the label_8d."
   ]
  },
  {
   "cell_type": "code",
   "execution_count": 107,
   "metadata": {},
   "outputs": [],
   "source": [
    "TestData_1  = np.c_[TestData,label]\n",
    "dftest_1 = pd.DataFrame(TestData_1,columns = ['Y0','Y1','Y2','Y3','Y4','Y5','Y6','Y7','label'] )"
   ]
  },
  {
   "cell_type": "code",
   "execution_count": 110,
   "metadata": {
    "collapsed": true,
    "scrolled": false
   },
   "outputs": [],
   "source": [
    "df = pd.concat([df0, df1, dftest_1], join='outer', ignore_index=True)\n",
    "df.to_csv(\"2challenge.csv\")"
   ]
  }
 ],
 "metadata": {
  "kernelspec": {
   "display_name": "Python 3",
   "language": "python",
   "name": "python3"
  },
  "language_info": {
   "codemirror_mode": {
    "name": "ipython",
    "version": 3
   },
   "file_extension": ".py",
   "mimetype": "text/x-python",
   "name": "python",
   "nbconvert_exporter": "python",
   "pygments_lexer": "ipython3",
   "version": "3.6.1"
  }
 },
 "nbformat": 4,
 "nbformat_minor": 2
}
