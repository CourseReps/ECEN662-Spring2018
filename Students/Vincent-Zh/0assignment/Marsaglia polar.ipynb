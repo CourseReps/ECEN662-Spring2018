{
 "cells": [
  {
   "cell_type": "code",
   "execution_count": 1,
   "metadata": {},
   "outputs": [
    {
     "data": {
      "image/png": "[encoded data removed]",
      "text/plain": [
       "<matplotlib.figure.Figure at 0x16e418e1dd8>"
      ]
     },
     "metadata": {},
     "output_type": "display_data"
    },
    {
     "name": "stdout",
     "output_type": "stream",
     "text": [
      "-0.0032949663666\n",
      "1.00107577206\n"
     ]
    }
   ],
   "source": [
    "import numpy as np\n",
    "import random as ra\n",
    "from matplotlib import pyplot\n",
    "from numpy import mean, var\n",
    "\n",
    "def drawHist(heights):\n",
    "    pyplot.hist(heights, 500)\n",
    "    pyplot.ylabel('Frequency')\n",
    "    pyplot.show()\n",
    "\n",
    "g=[]\n",
    "count=0\n",
    "while(count<100000):\n",
    "    A=ra.uniform(-1, 1)\n",
    "    B=ra.uniform(-1, 1)\n",
    "    s=np.square(A)+np.square(B)\n",
    "    if (s<1)&(s>0):\n",
    "        g.append(A*np.sqrt( -2*np.log(s)/ s ))\n",
    "        count+=1\n",
    "\n",
    "'''    \n",
    "for member in g:\n",
    "    print(\"%.2f\" % member)\n",
    "'''\n",
    "\n",
    "drawHist(g)\n",
    "print(mean(g))\n",
    "print(var(g))\n"
   ]
  },
  {
   "cell_type": "code",
   "execution_count": null,
   "metadata": {
    "collapsed": true
   },
   "outputs": [],
   "source": []
  }
 ],
 "metadata": {
  "kernelspec": {
   "display_name": "Python 3",
   "language": "python",
   "name": "python3"
  },
  "language_info": {
   "codemirror_mode": {
    "name": "ipython",
    "version": 3
   },
   "file_extension": ".py",
   "mimetype": "text/x-python",
   "name": "python",
   "nbconvert_exporter": "python",
   "pygments_lexer": "ipython3",
   "version": "3.6.1"
  }
 },
 "nbformat": 4,
 "nbformat_minor": 2
}
