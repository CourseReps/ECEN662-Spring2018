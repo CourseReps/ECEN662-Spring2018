{
 "cells": [
  {
   "cell_type": "markdown",
   "metadata": {},
   "source": [
    "## In this dataset, some data have 6 dimensions and some have 8 dimensions. There are two ideas in my mind. One is only using 6-D data to train a classifier and make a decision. The other is spliting this dataset into two sets: 6-D and 8-D. Then train two clssifier separately. \n",
    "\n",
    "## First, I want to try Idea One, i.e., ignoring Y6 and Y7."
   ]
  },
  {
   "cell_type": "code",
   "execution_count": 5,
   "metadata": {},
   "outputs": [
    {
     "name": "stdout",
     "output_type": "stream",
     "text": [
      "0.9456\n"
     ]
    }
   ],
   "source": [
    "import pandas as pd\n",
    "import numpy as np\n",
    "#from sklearn.svm import SVC\n",
    "from sklearn.neighbors import KNeighborsClassifier\n",
    "\n",
    "df = pd.DataFrame.from_csv(\"2challenge.csv\")\n",
    "df1 = df.loc[df['label'] == 1.0]\n",
    "df0 = df.loc[df['label'] == 0.0]\n",
    "dftest = df.loc[~((df['label'] == 0.0) | (df['label'] == 1.0))]\n",
    "\n",
    "TrainingData0 = df0.as_matrix(columns=None)\n",
    "TrainingData1 = df1.as_matrix(columns=None)\n",
    "TestData = dftest.as_matrix(columns=['Y0', 'Y1', 'Y2', 'Y3', 'Y4', 'Y5', 'Y6', 'Y7'])\n",
    "\n",
    "Array_train=np.append(TrainingData0,TrainingData1,axis=0)\n",
    "\n",
    "#clf = SVC()\n",
    "clf=KNeighborsClassifier(n_neighbors=3)\n",
    "\n",
    "clf.fit(Array_train[:,0:6], Array_train[:,8]) \n",
    "predicted=np.zeros((TestData.shape[0],1))\n",
    "predicted[:,0]= clf.predict(TestData[:,0:6])\n",
    "\n",
    "predicted_test=np.zeros((Array_train.shape[0],1))\n",
    "predicted_test[:,0]= clf.predict(Array_train[:,0:6])\n",
    "\n",
    "def getAccuracy(testSet, predictions):\n",
    "\tcorrect = 0\n",
    "\tfor x in range(len(testSet)):\n",
    "\t\tif testSet[x][-1]==predictions[x]:\n",
    "\t\t\tcorrect += 1\n",
    "\treturn (correct/float(len(testSet)))\n",
    "\n",
    "accuracy = getAccuracy(Array_train, predicted_test)\n",
    "print(accuracy)"
   ]
  },
  {
   "cell_type": "markdown",
   "metadata": {},
   "source": [
    "## 0.9456 is really an excellent accuracy. Therefore, we can say this classifier is good enough to make a decision."
   ]
  },
  {
   "cell_type": "markdown",
   "metadata": {},
   "source": [
    "## While, I want to explore whether it will become better if we use 8-D data. Then I extract 8-D data from all, train another classifier 'clf8'. I want to compare the accuracies bwtween 'clf' and 'clf8', using 6-D data and 8-D data respectively."
   ]
  },
  {
   "cell_type": "code",
   "execution_count": 6,
   "metadata": {},
   "outputs": [
    {
     "name": "stdout",
     "output_type": "stream",
     "text": [
      "0.9694244604316546\n",
      "0.9432454036770583\n"
     ]
    }
   ],
   "source": [
    "df_8=df.dropna()\n",
    "TrainingData8=df_8.as_matrix(columns=None)\n",
    "\n",
    "clf8=KNeighborsClassifier(n_neighbors=3)\n",
    "clf8.fit(TrainingData8[:,0:8], TrainingData8[:,8]) \n",
    "predicted_8=np.zeros((TrainingData8.shape[0],1))\n",
    "predicted_8[:,0]= clf8.predict(TrainingData8[:,0:8])\n",
    "accuracy8 = getAccuracy(TrainingData8, predicted_8)\n",
    "print(accuracy8)\n",
    "\n",
    "predicted_6=np.zeros((TrainingData8.shape[0],1))\n",
    "predicted_6[:,0]= clf.predict(TrainingData8[:,0:6])\n",
    "accuracy6 = getAccuracy(TrainingData8, predicted_6)\n",
    "print(accuracy6)"
   ]
  },
  {
   "cell_type": "markdown",
   "metadata": {},
   "source": [
    "## The answer is yes! These 8-D data can be classified better if we use higher dimension data. While, the accuracy, increasing from 0.9432 to 0.9694, doesn't have a huge improvement. So I think we can use only 'Y0'-'Y5' to train a classifier, which can solve this problem with a good accuracy."
   ]
  },
  {
   "cell_type": "code",
   "execution_count": 7,
   "metadata": {
    "collapsed": true
   },
   "outputs": [],
   "source": [
    "Array_test=np.append(TestData,predicted,axis=1)\n",
    "Array=np.append(Array_train,Array_test,axis=0)\n",
    "dfnew=pd.DataFrame({'Y0':Array[:,0],'Y1':Array[:,1],'Y2':Array[:,2],'Y3':Array[:,3],'Y4':Array[:,4],'Y5':Array[:,5],'Y6':Array[:,6],'Y7':Array[:,7],'label':Array[:,8]})\n",
    "dfnew.to_csv(\"2challenge.csv\")"
   ]
  },
  {
   "cell_type": "code",
   "execution_count": null,
   "metadata": {
    "collapsed": true
   },
   "outputs": [],
   "source": []
  }
 ],
 "metadata": {
  "kernelspec": {
   "display_name": "Python 3",
   "language": "python",
   "name": "python3"
  },
  "language_info": {
   "codemirror_mode": {
    "name": "ipython",
    "version": 3
   },
   "file_extension": ".py",
   "mimetype": "text/x-python",
   "name": "python",
   "nbconvert_exporter": "python",
   "pygments_lexer": "ipython3",
   "version": "3.6.1"
  }
 },
 "nbformat": 4,
 "nbformat_minor": 2
}
