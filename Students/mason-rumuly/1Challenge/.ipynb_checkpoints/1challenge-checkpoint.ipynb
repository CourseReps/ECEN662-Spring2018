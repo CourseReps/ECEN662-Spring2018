{
 "cells": [
  {
   "cell_type": "markdown",
   "metadata": {},
   "source": [
    "# Challenge 1: Binary Detection 1"
   ]
  },
  {
   "cell_type": "markdown",
   "metadata": {},
   "source": [
    "The first step is to import relevant libraries."
   ]
  },
  {
   "cell_type": "code",
   "execution_count": null,
   "metadata": {
    "collapsed": true
   },
   "outputs": [],
   "source": [
    "import pandas as pd\n",
    "import numpy as np\n",
    "import matplotlib.pyplot as plt"
   ]
  },
  {
   "cell_type": "markdown",
   "metadata": {},
   "source": [
    "The second step is to import data from the given file."
   ]
  },
  {
   "cell_type": "code",
   "execution_count": null,
   "metadata": {
    "collapsed": true
   },
   "outputs": [],
   "source": [
    "df = pd.DataFrame.from_csv(\"1challenge.csv\")\n",
    "df0 = df.loc[df['label'] == 1.0]# Challenge 1: Binary Detection 1\n",
    "\n",
    "The purpose of Challenge 1 is to gain experience with binary detection, as it pertains to statistical inference.\n",
    "This challenge assumes that you are already familiar with [Python](https://www.python.org/), and you have a working development environment.\n",
    "You should also be versed in using [Git](https://git-scm.com/) and [GitHub](https://github.com/).\n",
    "\n",
    "\n",
    "## Binary Detection\n",
    "\n",
    "The file [1challenge.csv](./1challenge.csv) contains the data for Challenge 1.\n",
    "Every row corresponds to a 2-dimensional sample.\n",
    "Columns one and two are the components of the 2-dimensional samples; whereas the third column, if present, is a label for the training data.\n",
    "The first 6000 rows are training samples for `theta = 0`.\n",
    "The next 4000 rows are training samples for `theta = 1`.\n",
    "Your task is to produce a label for the remaining 5000 samples.\n",
    "The objective is to minimize the average number of erroneous guesses.\n",
    "\n",
    "Complete the following tasks.\n",
    "1. Develop a detection algorithm for this problem in Python, and provide estimates for the unlabeled samples.\n",
    "2. Add the missing labels to your copy of the CSV files, which should be located at\n",
    "  *  **ECEN662-Spring2018/ECEN662-Spring2018/Students/\\<GitHubID\\>/1Challenge/1challenge.csv**\n",
    "3. Finally, `commit` your work to your local Git repository, `pull` latest changes from the master, and then `push` your updates.\n",
    "\n",
    "\n",
    "df1 = df.loc[df['label'] == 0.0]\n",
    "dftest = df.loc[~((df['label'] == 0.0) | (df['label'] == 1.0))]\n",
    "print(df0.shape)\n",
    "print(df1.shape)\n",
    "print(dftest.shape)"
   ]
  },
  {
   "cell_type": "markdown",
   "metadata": {},
   "source": [
    "One can use the data in their original Pandas DataFrame format, or one can transform these objects into Numpy-arrays."
   ]
  },
  {
   "cell_type": "code",
   "execution_count": null,
   "metadata": {
    "collapsed": true
   },
   "outputs": [],
   "source": [
    "TrainingData0 = df0.as_matrix(columns=None)\n",
    "TrainingData1 = df1.as_matrix(columns=None)\n",
    "TestData = dftest.as_matrix(columns=['Y0', 'Y1'])"
   ]
  },
  {
   "cell_type": "markdown",
   "metadata": {},
   "source": [
    "It may be helpful to visualize the data."
   ]
  },
  {
   "cell_type": "code",
   "execution_count": null,
   "metadata": {
    "collapsed": true
   },
   "outputs": [],
   "source": [
    "plt.plot(TrainingData0[:,0], TrainingData0[:,1], 'x', color='r')\n",
    "plt.plot(TrainingData1[:,0], TrainingData1[:,1], 'x', color='b')\n",
    "plt.plot(TestData[:,0], TestData[:,1], 'o', color='k')\n",
    "plt.axis('equal')\n",
    "plt.show()"
   ]
  },
  {
   "cell_type": "markdown",
   "metadata": {},
   "source": [
    "After creating an algorithm and generating labels, one should update the original CSV file."
   ]
  },
  {
   "cell_type": "code",
   "execution_count": null,
   "metadata": {
    "collapsed": true
   },
   "outputs": [],
   "source": [
    "df = pd.concat([df0, df1, dftest], join='outer', ignore_index=True)\n",
    "df.to_csv(\"1challenge.csv\")"
   ]
  }
 ],
 "metadata": {
  "kernelspec": {
   "display_name": "Python 3",
   "language": "python",
   "name": "python3"
  },
  "language_info": {
   "codemirror_mode": {
    "name": "ipython",
    "version": 3
   },
   "file_extension": ".py",
   "mimetype": "text/x-python",
   "name": "python",
   "nbconvert_exporter": "python",
   "pygments_lexer": "ipython3",
   "version": "3.6.3"
  }
 },
 "nbformat": 4,
 "nbformat_minor": 2
}
