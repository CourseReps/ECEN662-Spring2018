{
 "cells": [
  {
   "cell_type": "markdown",
   "metadata": {},
   "source": [
    "# Challenge 1: Binary Detection 1"
   ]
  },
  {
   "cell_type": "markdown",
   "metadata": {},
   "source": [
    "The first step is to import relevant libraries."
   ]
  },
  {
   "cell_type": "code",
   "execution_count": null,
   "metadata": {
    "collapsed": true
   },
   "outputs": [],
   "source": [
    "import pandas as pd\n",
    "import numpy as np\n",
    "import matplotlib.pyplot as plt"
   ]
  },
  {
   "cell_type": "markdown",
   "metadata": {},
   "source": [
    "The second step is to import data from the given file."
   ]
  },
  {
   "cell_type": "code",
   "execution_count": null,
   "metadata": {
    "collapsed": true
   },
   "outputs": [],
   "source": [
    "df = pd.DataFrame.from_csv(\"1challenge.csv\")\n",
    "df0 = df.loc[df['label'] == 1.0]\n",
    "df1 = df.loc[df['label'] == 0.0]\n",
    "dftest = df.loc[~((df['label'] == 0.0) | (df['label'] == 1.0))]\n",
    "print(df0.shape)\n",
    "print(df1.shape)\n",
    "print(dftest.shape)"
   ]
  },
  {
   "cell_type": "markdown",
   "metadata": {},
   "source": [
    "One can use the data in their original Pandas DataFrame format, or one can transform these objects into Numpy-arrays."
   ]
  },
  {
   "cell_type": "code",
   "execution_count": null,
   "metadata": {
    "collapsed": true
   },
   "outputs": [],
   "source": [
    "TrainingData0 = df0.as_matrix(columns=None)\n",
    "TrainingData1 = df1.as_matrix(columns=None)\n",
    "TestData = dftest.as_matrix(columns=['Y0', 'Y1'])"
   ]
  },
  {
   "cell_type": "markdown",
   "metadata": {},
   "source": [
    "It may be helpful to visualize the data."
   ]
  },
  {
   "cell_type": "code",
   "execution_count": null,
   "metadata": {
    "collapsed": true
   },
   "outputs": [],
   "source": [
    "plt.plot(TrainingData0[:,0], TrainingData0[:,1], 'x', color='r')\n",
    "plt.plot(TrainingData1[:,0], TrainingData1[:,1], 'x', color='b')\n",
    "plt.plot(TestData[:,0], TestData[:,1], 'o', color='k')\n",
    "plt.axis('equal')\n",
    "plt.show()"
   ]
  },
  {
   "cell_type": "markdown",
   "metadata": {},
   "source": [
    "After creating an algorithm and generating labels, one should update the original CSV file."
   ]
  },
  {
   "cell_type": "code",
   "execution_count": null,
   "metadata": {
    "collapsed": true
   },
   "outputs": [],
   "source": [
    "df = pd.concat([df0, df1, dftest], join='outer', ignore_index=True)\n",
    "df.to_csv(\"1challenge.csv\")"
   ]
  }
 ],
 "metadata": {
  "kernelspec": {
   "display_name": "Python 3",
   "language": "python",
   "name": "python3"
  },
  "language_info": {
   "codemirror_mode": {
    "name": "ipython",
    "version": 3
   },
   "file_extension": ".py",
   "mimetype": "text/x-python",
   "name": "python",
   "nbconvert_exporter": "python",
   "pygments_lexer": "ipython3",
   "version": "3.6.3"
  }
 },
 "nbformat": 4,
 "nbformat_minor": 2
}
