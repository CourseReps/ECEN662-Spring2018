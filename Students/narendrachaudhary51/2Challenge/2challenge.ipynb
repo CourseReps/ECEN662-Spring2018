{
 "cells": [
  {
   "cell_type": "code",
   "execution_count": 1,
   "metadata": {
    "collapsed": false
   },
   "outputs": [],
   "source": [
    "import pandas as pd\n",
    "import numpy as np\n",
    "import matplotlib.pyplot as plt\n",
    "import math\n",
    "%matplotlib inline"
   ]
  },
  {
   "cell_type": "code",
   "execution_count": 2,
   "metadata": {
    "collapsed": false
   },
   "outputs": [
    {
     "name": "stdout",
     "output_type": "stream",
     "text": [
      "(15000, 9)\n",
      "(5000, 9)\n",
      "(5000, 9)\n",
      "(5000, 9)\n"
     ]
    },
    {
     "name": "stderr",
     "output_type": "stream",
     "text": [
      "c:\\users\\narendra\\.conda\\envs\\tensorflow\\lib\\site-packages\\ipykernel\\__main__.py:1: FutureWarning: from_csv is deprecated. Please use read_csv(...) instead. Note that some of the default arguments are different, so please refer to the documentation for from_csv when changing your function calls\n",
      "  if __name__ == '__main__':\n"
     ]
    }
   ],
   "source": [
    "df = pd.DataFrame.from_csv('2challenge_original.csv')\n",
    "df0 = df.loc[df['label'] == 0.0]\n",
    "df1 = df.loc[df['label'] == 1.0]\n",
    "dftest = df.loc[~((df['label'] == 0.0) | (df['label'] == 1.0))]\n",
    "print(df.shape)\n",
    "print(df0.shape)\n",
    "print(df1.shape)\n",
    "print(dftest.shape)"
   ]
  },
  {
   "cell_type": "code",
   "execution_count": 3,
   "metadata": {
    "collapsed": false
   },
   "outputs": [],
   "source": [
    "TrainingData0 = df0.as_matrix(columns=None)\n",
    "TrainingData1 = df1.as_matrix(columns=None)\n",
    "TestData = dftest.as_matrix(columns=['Y0', 'Y1', 'Y2', 'Y3', 'Y4', 'Y5', 'Y6', 'Y7'])"
   ]
  },
  {
   "cell_type": "code",
   "execution_count": 8,
   "metadata": {
    "collapsed": false
   },
   "outputs": [
    {
     "data": {
      "image/png": "[encoded data removed]",
      "text/plain": [
       "<matplotlib.figure.Figure at 0x2388423fa20>"
      ]
     },
     "metadata": {},
     "output_type": "display_data"
    },
    {
     "name": "stdout",
     "output_type": "stream",
     "text": [
      "[ 0.3916439   0.39089352  0.39239032  0.39069693  0.3899083   0.39253852] 0.3913452489\n",
      "[ 0.17798067  0.17864793  0.17790641  0.17864686  0.18053506  0.18041744]\n",
      "[ 0.60724419  0.60789752  0.6098887   0.60690931  0.61260257  0.61257014] 0.609518738248\n",
      "[ 0.17866707  0.1781169   0.17790739  0.17753359  0.17691808  0.17862967]\n"
     ]
    }
   ],
   "source": [
    "\"\"\"\n",
    "Check the charcteristics of data. All columns with label 0 seem to have mean of ~0.39 and variance of ~0.178. \n",
    "Similarly, columns with label 1 have mean ~0.61 and variance of ~0.178.\n",
    "\n",
    "\"\"\"\n",
    "\n",
    "#plt.plot(TrainingData0[:,0])\n",
    "#plt.plot(TrainingData1[:,0])\n",
    "plt.plot(TestData[:,0])\n",
    "plt.show()\n",
    "print(np.mean(TrainingData0[:,:6], axis = 0), np.mean(np.mean(TrainingData0[:,:6], axis = 0)))\n",
    "print(np.std(TrainingData0[:,:6], axis = 0))\n",
    "print(np.mean(TrainingData1[:,:6], axis = 0), np.mean(np.mean(TrainingData1[:,:6], axis = 0)))\n",
    "print(np.std(TrainingData1[:,:6], axis = 0))"
   ]
  },
  {
   "cell_type": "code",
   "execution_count": 5,
   "metadata": {
    "collapsed": false
   },
   "outputs": [
    {
     "name": "stdout",
     "output_type": "stream",
     "text": [
      "4717\n",
      "4703\n",
      "Training Error:  5.8 %\n",
      "4722.0\n"
     ]
    },
    {
     "name": "stderr",
     "output_type": "stream",
     "text": [
      "c:\\users\\narendra\\.conda\\envs\\tensorflow\\lib\\site-packages\\ipykernel\\__main__.py:33: SettingWithCopyWarning: \n",
      "A value is trying to be set on a copy of a slice from a DataFrame.\n",
      "Try using .loc[row_indexer,col_indexer] = value instead\n",
      "\n",
      "See the caveats in the documentation: http://pandas.pydata.org/pandas-docs/stable/indexing.html#indexing-view-versus-copy\n"
     ]
    }
   ],
   "source": [
    "\"\"\"\n",
    "I use the sequential observation with the assumption of gaussian observation. Furthermore, gaussian have equal variance.\n",
    "\n",
    " or    (1/n) sum(y1 + ... + yn) >< mean2 + (mean1 - mean2)/2 = (mean1 + mean2)/2\n",
    "\"\"\"\n",
    "\n",
    "\n",
    "count_0 = 0\n",
    "for zeros in TrainingData0[:,:8]:\n",
    "    valid_indexs = [i for i, zero in enumerate(zeros) if not math.isnan(zero)]    # take columns indexs which have valid values\n",
    "    if np.mean(zeros[valid_indexs]) < (0.39 + (0.61 - 0.39)/2):                   # take mean of a row and compare with threshold\n",
    "        count_0 += 1 \n",
    "print(count_0)\n",
    "\n",
    "count_1 = 0\n",
    "for ones in TrainingData1[:,:8]:\n",
    "    valid_indexs = [i for i, one in enumerate(ones) if not math.isnan(one)]      # take columns indexs which have valid values\n",
    "    if np.mean(ones[valid_indexs]) > (0.39 + (0.61 - 0.39)/2):                   # take mean of a row and compare with threshold\n",
    "        count_1 += 1 \n",
    "print(count_1)\n",
    "\n",
    "\n",
    "print('Training Error: ', (10000 - count_0 - count_1)/100, '%' )               # compute training error\n",
    "\n",
    "labels = np.zeros([5000])\n",
    "for k, Tests in enumerate(TestData):\n",
    "    valid_indexs = [i for i, test in enumerate(Tests) if not math.isnan(test)]   # take columns indexs which have valid values\n",
    "    if np.mean(Tests[valid_indexs]) >= (0.39 + (0.61 - 0.39)/2):                 # take mean of a row and compare with threshold\n",
    "        labels[k] = 1\n",
    "    else:\n",
    "        labels[k] = 0\n",
    "print(np.sum(labels))\n",
    "dftest['label'] = labels"
   ]
  },
  {
   "cell_type": "code",
   "execution_count": 6,
   "metadata": {
    "collapsed": true
   },
   "outputs": [],
   "source": [
    "df = pd.concat([df0, df1, dftest], join='outer', ignore_index=True)\n",
    "df.to_csv(\"2challenge.csv\")"
   ]
  },
  {
   "cell_type": "code",
   "execution_count": null,
   "metadata": {
    "collapsed": true
   },
   "outputs": [],
   "source": []
  }
 ],
 "metadata": {
  "kernelspec": {
   "display_name": "Python 3",
   "language": "python",
   "name": "python3"
  },
  "language_info": {
   "codemirror_mode": {
    "name": "ipython",
    "version": 3
   },
   "file_extension": ".py",
   "mimetype": "text/x-python",
   "name": "python",
   "nbconvert_exporter": "python",
   "pygments_lexer": "ipython3",
   "version": "3.5.3"
  }
 },
 "nbformat": 4,
 "nbformat_minor": 0
}
