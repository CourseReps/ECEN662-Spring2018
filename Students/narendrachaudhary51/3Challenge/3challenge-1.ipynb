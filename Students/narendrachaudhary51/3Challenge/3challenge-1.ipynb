{
 "cells": [
  {
   "cell_type": "markdown",
   "metadata": {},
   "source": [
    "# Challenge 3: Parameter Estimation 1"
   ]
  },
  {
   "cell_type": "markdown",
   "metadata": {},
   "source": [
    "The first step is to import relevant libraries."
   ]
  },
  {
   "cell_type": "code",
   "execution_count": 96,
   "metadata": {
    "collapsed": true
   },
   "outputs": [],
   "source": [
    "import pandas as pd\n",
    "import numpy as np\n",
    "from scipy.stats import beta\n",
    "import matplotlib.pyplot as plt\n",
    "%matplotlib inline"
   ]
  },
  {
   "cell_type": "markdown",
   "metadata": {},
   "source": [
    "The second step is to import data from the given file."
   ]
  },
  {
   "cell_type": "code",
   "execution_count": 95,
   "metadata": {
    "collapsed": false
   },
   "outputs": [
    {
     "name": "stdout",
     "output_type": "stream",
     "text": [
      "(5000, 9)\n",
      "(5000, 9)\n"
     ]
    },
    {
     "name": "stderr",
     "output_type": "stream",
     "text": [
      "c:\\users\\narendra\\.conda\\envs\\tensorflow\\lib\\site-packages\\ipykernel\\__main__.py:1: FutureWarning: from_csv is deprecated. Please use read_csv(...) instead. Note that some of the default arguments are different, so please refer to the documentation for from_csv when changing your function calls\n",
      "  if __name__ == '__main__':\n"
     ]
    }
   ],
   "source": [
    "df = pd.DataFrame.from_csv(\"3challenge-1.csv\")\n",
    "dftraining = df.loc[~np.isnan(df['label'])]\n",
    "dftesting = df.loc[np.isnan(df['label'])]\n",
    "print(dftraining.shape)\n",
    "print(dftesting.shape)"
   ]
  },
  {
   "cell_type": "markdown",
   "metadata": {},
   "source": [
    "One can use the data in their original Pandas DataFrame format, or one can transform these objects into Numpy-arrays."
   ]
  },
  {
   "cell_type": "code",
   "execution_count": 97,
   "metadata": {
    "collapsed": true
   },
   "outputs": [],
   "source": [
    "TrainingData = dftraining.as_matrix(columns=None)\n",
    "TestData = dftesting.as_matrix(columns=['Y0', 'Y1', 'Y2', 'Y3', 'Y4', 'Y5', 'Y6', 'Y7'])"
   ]
  },
  {
   "cell_type": "code",
   "execution_count": 98,
   "metadata": {
    "collapsed": false
   },
   "outputs": [
    {
     "data": {
      "text/plain": [
       "[<matplotlib.lines.Line2D at 0x26dfaae3ac8>]"
      ]
     },
     "execution_count": 98,
     "metadata": {},
     "output_type": "execute_result"
    },
    {
     "data": {
      "image/png": "[encoded data removed]",
      "text/plain": [
       "<matplotlib.figure.Figure at 0x26dfaa93a58>"
      ]
     },
     "metadata": {},
     "output_type": "display_data"
    }
   ],
   "source": [
    "rv = beta(2, 5)\n",
    "x = np.linspace(0, 1, 100)\n",
    "plt.plot(x, rv.pdf(x))"
   ]
  },
  {
   "cell_type": "code",
   "execution_count": 100,
   "metadata": {
    "collapsed": false
   },
   "outputs": [
    {
     "name": "stdout",
     "output_type": "stream",
     "text": [
      "Math to find the MAP estimator\n"
     ]
    }
   ],
   "source": [
    "\"\"\"\n",
    "The MAP (maximum a posteriori) estimator\n",
    "\n",
    "t(MAP) = argmax f(t) * f(x1, x2, ..., x8 | t)\n",
    "\n",
    "f(t) = Beta(2,5) = t * (1 - t)^4 / (B(2,5))            \n",
    "\n",
    "f(x1, ..., x8 | t) = (multiply for i =1,...8) [(40 choose xi) * t^(xi) * (1 - t)^(40 - xi)]\n",
    "                   = C1 * t^sum(xi) * (1 - t)^(320 - sum(xi)) \n",
    "Hence\n",
    "t(MAP) = argmax  C2 * t^(1 + sum(xi)) * (1 - t)^(324 - sum(xi)) = argmax f(t)\n",
    "\n",
    "Differntiate wrt to t and set differntion equal to zero to get max\n",
    "\n",
    "d/dt (f(t)) = C2 * [ (1 + sum(xi)) t^(sum(xi) * (1 - t)^(324 - sum(xi) - (324 - sum(xi)) * (1 - t)^(323 - sum(xi))* t^(1 + sum(xi))]\n",
    "            = C2 * t^(sum(xi) * (1 - t)^(323 - sum(xi)) [(1 + sum(xi)) * (1 -t) - t * (324 - sum(xi))] = 0\n",
    "\n",
    "or\n",
    "    [(1 + sum(xi)) * (1 -t) - t * (324 - sum(xi))] = 0\n",
    "    \n",
    "    t = (1 + sum(xi))/325\n",
    "\n",
    "hence\n",
    "\n",
    "    t(MAP) = (1 + sum(xi))/325\n",
    "            \n",
    "\"\"\"\n",
    "print(\"Math to find the MAP estimator\")"
   ]
  },
  {
   "cell_type": "code",
   "execution_count": 104,
   "metadata": {
    "collapsed": false
   },
   "outputs": [
    {
     "name": "stdout",
     "output_type": "stream",
     "text": [
      "0.000551408752708\n"
     ]
    }
   ],
   "source": [
    "#ytrain_pred = TrainingData[:,0:8].sum(axis=1)/(40*8)            # Maximum likelyhood estimator\n",
    "ytrain_pred = (1 + TrainingData[:,0:8].sum(axis=1))/(325)        # MAP estimator\n",
    "ytrain = TrainingData[:,8]\n",
    "\n",
    "\n",
    "mse = np.mean((ytrain - ytrain_pred)**2)\n",
    "print(mse)\n",
    "\n",
    "y_pred = (1 + TestData[:,0:8].sum(axis=1))/(325) \n",
    "dftesting['label'] = y_pred\n",
    "#print(dftesting)"
   ]
  },
  {
   "cell_type": "markdown",
   "metadata": {},
   "source": [
    "After creating an algorithm and generating labels, one should update the original CSV file."
   ]
  },
  {
   "cell_type": "code",
   "execution_count": 105,
   "metadata": {
    "collapsed": true
   },
   "outputs": [],
   "source": [
    "df = pd.concat([dftraining, dftesting], join='outer', ignore_index=True)\n",
    "df.to_csv(\"3challenge-1.csv\")"
   ]
  }
 ],
 "metadata": {
  "kernelspec": {
   "display_name": "Python 3",
   "language": "python",
   "name": "python3"
  },
  "language_info": {
   "codemirror_mode": {
    "name": "ipython",
    "version": 3
   },
   "file_extension": ".py",
   "mimetype": "text/x-python",
   "name": "python",
   "nbconvert_exporter": "python",
   "pygments_lexer": "ipython3",
   "version": "3.5.3"
  }
 },
 "nbformat": 4,
 "nbformat_minor": 2
}
