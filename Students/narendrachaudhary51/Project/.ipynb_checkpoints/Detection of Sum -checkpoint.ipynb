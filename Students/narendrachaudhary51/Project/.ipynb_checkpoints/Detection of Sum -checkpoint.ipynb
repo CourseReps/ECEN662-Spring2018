{
 "cells": [
  {
   "cell_type": "code",
   "execution_count": 1,
   "metadata": {
    "collapsed": true
   },
   "outputs": [],
   "source": [
    "import numpy as np\n",
    "from scipy.stats import powerlaw\n",
    "import matplotlib.pyplot as plt\n",
    "%matplotlib inline  "
   ]
  },
  {
   "cell_type": "code",
   "execution_count": 2,
   "metadata": {
    "collapsed": false
   },
   "outputs": [
    {
     "name": "stdout",
     "output_type": "stream",
     "text": [
      "0.3972684189037533 0.09004739272861799 0.3742420054268278 -1.1228043934069571\n",
      "0.49748743718592964 0.08360992877194157 0.008711142072721003 -1.2023137944454259\n"
     ]
    }
   ],
   "source": [
    "a0 = 0.65911332899\n",
    "a1 = 0.99\n",
    "mean0, var0, skew0, kurt0 = powerlaw.stats(a0, moments='mvsk')\n",
    "mean1, var1, skew1, kurt1 = powerlaw.stats(a1, moments='mvsk')\n",
    "print(mean0, var0, skew0, kurt0)\n",
    "print(mean1, var1, skew1, kurt1)"
   ]
  },
  {
   "cell_type": "code",
   "execution_count": 3,
   "metadata": {
    "collapsed": false
   },
   "outputs": [
    {
     "data": {
      "image/png": "[encoded data removed]",
      "text/plain": [
       "<matplotlib.figure.Figure at 0x22f6c21ea20>"
      ]
     },
     "metadata": {},
     "output_type": "display_data"
    },
    {
     "data": {
      "image/png": "[encoded data removed]",
      "text/plain": [
       "<matplotlib.figure.Figure at 0x22f67ea8ba8>"
      ]
     },
     "metadata": {},
     "output_type": "display_data"
    }
   ],
   "source": [
    "x = np.linspace(powerlaw.ppf(0.01, a0),powerlaw.ppf(0.99, a0), 100)\n",
    "plt.plot(x, powerlaw.pdf(x, a0), 'r-', lw=5, alpha=0.6, label='powerlaw pdf')\n",
    "plt.show()\n",
    "\n",
    "x = np.linspace(powerlaw.ppf(0.01, a1),powerlaw.ppf(0.99, a1), 100)\n",
    "plt.plot(x, powerlaw.pdf(x, a1), 'r-', lw=5, alpha=0.6, label='powerlaw pdf')\n",
    "plt.show()"
   ]
  },
  {
   "cell_type": "code",
   "execution_count": 13,
   "metadata": {
    "collapsed": false
   },
   "outputs": [
    {
     "name": "stdout",
     "output_type": "stream",
     "text": [
      "Hypothesis 0\n",
      "Mean of Sum = 39.75635335175543, Sum/sqrt(K) = 3.9756353351755434\n",
      "Variance of Sum = 8.83267195478984, Sum/sqrt(K) = 0.08832671954789843\n",
      "Hypothesis 1\n",
      "Mean of Sum = 49.711597068664034, Sum/sqrt(K) = 4.971159706866404\n",
      "Variance of Sum = 8.41743368325032, Sum/sqrt(K) = 0.08417433683250315\n",
      "Variance after devision: var0 = 1.0,  var1 = 1.0\n"
     ]
    },
    {
     "data": {
      "image/png": "[encoded data removed]",
      "text/plain": [
       "<matplotlib.figure.Figure at 0x22f6d59f940>"
      ]
     },
     "metadata": {},
     "output_type": "display_data"
    }
   ],
   "source": [
    "N = 10000                                   #training set\n",
    "K = 100                                     #sum of K random variables\n",
    "\n",
    "s0 = np.zeros(N)\n",
    "s1 = np.zeros(N)\n",
    "\n",
    "#w0 = np.zeros(N)\n",
    "#w1 = np.zeros(N)\n",
    "\n",
    "c0 = np.zeros(N)\n",
    "c1 = np.zeros(N)\n",
    "for i in range(N):\n",
    "    s0[i] = np.sum(powerlaw.rvs(a0, size=K))               #Observation for hypothesis 0\n",
    "    s1[i] = np.sum(powerlaw.rvs(a1, size=K))               #Observation hypothesis 1\n",
    "\n",
    "#w0 = s0/K\n",
    "#w1 = s1/K\n",
    "\n",
    "c0 = s0/(np.sqrt(K))\n",
    "c1 = s1/(np.sqrt(K))\n",
    "\n",
    "e_mean0 = np.mean(c0) \n",
    "e_var0 = np.std(c0)**2\n",
    "\n",
    "e_mean1 = np.mean(c1)\n",
    "e_var1 = np.std(c1)**2\n",
    "print(\"Hypothesis 0\")\n",
    "print(\"Mean of Sum = {}, Sum/sqrt(K) = {}\".format(np.mean(s0), e_mean0))\n",
    "print(\"Variance of Sum = {}, Sum/sqrt(K) = {}\".format(np.std(s0)**2, e_var0))\n",
    "\n",
    "\n",
    "print(\"Hypothesis 1\")\n",
    "print(\"Mean of Sum = {}, Sum/sqrt(K) = {}\".format(np.mean(s1), e_mean1))\n",
    "print(\"Variance of Sum = {}, Sum/sqrt(K) = {}\".format(np.std(s1)**2, e_var1))\n",
    "\n",
    "c0 = c0/np.sqrt(e_var0)\n",
    "c1 = c1/np.sqrt(e_var1)\n",
    "\n",
    "print(\"Variance after devision: var0 = {},  var1 = {}\".format(np.std(c0)**2,np.std(c1)**2))\n",
    "\n",
    "#plt.hist(s0, bins = 100)\n",
    "#plt.hist(s1, bins = 100)\n",
    "#plt.hist(w0, bins = 100)\n",
    "#plt.hist(w1, bins = 100)\n",
    "plt.hist(c0, bins = 100)\n",
    "plt.hist(c1, bins = 100)\n",
    "plt.show()"
   ]
  },
  {
   "cell_type": "code",
   "execution_count": 15,
   "metadata": {
    "collapsed": false
   },
   "outputs": [
    {
     "name": "stdout",
     "output_type": "stream",
     "text": [
      "Threshold =  4.47339752102\n"
     ]
    }
   ],
   "source": [
    "# Detection Assuming the Sum, Sum/K and Sum/sqrt(K) behave like gaussain\n",
    "\n",
    "Threshold = (e_mean0 + e_mean1)/2\n",
    "print(\"Threshold = \", Threshold)\n",
    "\n"
   ]
  }
 ],
 "metadata": {
  "kernelspec": {
   "display_name": "Python 3",
   "language": "python",
   "name": "python3"
  },
  "language_info": {
   "codemirror_mode": {
    "name": "ipython",
    "version": 3
   },
   "file_extension": ".py",
   "mimetype": "text/x-python",
   "name": "python",
   "nbconvert_exporter": "python",
   "pygments_lexer": "ipython3",
   "version": "3.5.3"
  }
 },
 "nbformat": 4,
 "nbformat_minor": 0
}
