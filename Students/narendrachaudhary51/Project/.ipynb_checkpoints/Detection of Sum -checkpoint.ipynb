{
 "cells": [
  {
   "cell_type": "code",
   "execution_count": 194,
   "metadata": {
    "collapsed": true
   },
   "outputs": [],
   "source": [
    "import numpy as np\n",
    "from scipy.stats import powerlaw, norm, uniform\n",
    "import matplotlib.pyplot as plt\n",
    "%matplotlib inline  "
   ]
  },
  {
   "cell_type": "code",
   "execution_count": 270,
   "metadata": {
    "collapsed": false
   },
   "outputs": [
    {
     "name": "stdout",
     "output_type": "stream",
     "text": [
      "0.975609756097561 0.0005665561882099657 -1.8587492087089506 4.928276955602537\n",
      "0.5 0.08333333333333333 -0.0 -1.2\n"
     ]
    }
   ],
   "source": [
    "a0 = 40\n",
    "a1 = 1\n",
    "mean0, var0, skew0, kurt0 = powerlaw.stats(a0, moments='mvsk')\n",
    "mean1, var1, skew1, kurt1 = powerlaw.stats(a1, moments='mvsk')\n",
    "print(mean0, var0, skew0, kurt0)\n",
    "print(mean1, var1, skew1, kurt1)"
   ]
  },
  {
   "cell_type": "code",
   "execution_count": 271,
   "metadata": {
    "collapsed": false
   },
   "outputs": [
    {
     "data": {
      "image/png": "[encoded data removed]",
      "text/plain": [
       "<matplotlib.figure.Figure at 0x14d19636668>"
      ]
     },
     "metadata": {},
     "output_type": "display_data"
    },
    {
     "data": {
      "image/png": "[encoded data removed]",
      "text/plain": [
       "<matplotlib.figure.Figure at 0x14d192eaeb8>"
      ]
     },
     "metadata": {},
     "output_type": "display_data"
    }
   ],
   "source": [
    "x = np.linspace(powerlaw.ppf(0.01, a0),powerlaw.ppf(0.99, a0), 100)\n",
    "plt.plot(x, powerlaw.pdf(x, a0), 'r-', lw=5, alpha=0.6, label='powerlaw pdf')\n",
    "plt.show()\n",
    "\n",
    "x = np.linspace(powerlaw.ppf(0.01, a1),powerlaw.ppf(0.99, a1), 100)\n",
    "plt.plot(x, powerlaw.pdf(x, a1), 'r-', lw=5, alpha=0.6, label='powerlaw pdf')\n",
    "plt.show()"
   ]
  },
  {
   "cell_type": "code",
   "execution_count": 272,
   "metadata": {
    "collapsed": false,
    "scrolled": true
   },
   "outputs": [
    {
     "name": "stdout",
     "output_type": "stream",
     "text": [
      "Hypothesis 0\n",
      "Mean of Sum = 19.512304208129205, Sum/sqrt(K) = 1.0010247861191783\n",
      "Variance of Sum = 0.011301026411584408, Sum/sqrt(K) = 0.997343833388353\n",
      "Hypothesis 1\n",
      "Mean of Sum = 9.988898276286001, Sum/sqrt(K) = -0.008599358211701425\n",
      "Variance of Sum = 1.6561962904787895, Sum/sqrt(K) = 0.9937177742872736\n"
     ]
    },
    {
     "data": {
      "image/png": "[encoded data removed]",
      "text/plain": [
       "<matplotlib.figure.Figure at 0x14d193260b8>"
      ]
     },
     "metadata": {},
     "output_type": "display_data"
    }
   ],
   "source": [
    "N = 10000                                   #training set\n",
    "K = 20                                #sum of K random variables\n",
    "\n",
    "mean_diff = 1\n",
    "\n",
    "s0 = np.zeros(N)\n",
    "s1 = np.zeros(N)\n",
    "\n",
    "\n",
    "c0 = np.zeros(N)\n",
    "c1 = np.zeros(N)\n",
    "for i in range(N):\n",
    "    s0[i] = np.sum(powerlaw.rvs(a0, size=K))               #Observation for hypothesis 0\n",
    "    s1[i] = np.sum(powerlaw.rvs(a1, size=K))               #Observation hypothesis 1\n",
    "\n",
    "c0 = (s0 - K*mean0)/np.sqrt(K*var0)\n",
    "c1 = (s1 - K*mean1)/np.sqrt(K*var1)\n",
    "c0 = mean_diff + c0\n",
    "\n",
    "e_mean0 = np.mean(c0) \n",
    "e_var0 = np.std(c0)**2\n",
    "\n",
    "e_mean1 = np.mean(c1)\n",
    "e_var1 = np.std(c1)**2\n",
    "\n",
    "print(\"Hypothesis 0\")\n",
    "print(\"Mean of Sum = {}, Sum/sqrt(K) = {}\".format(np.mean(s0), e_mean0))\n",
    "print(\"Variance of Sum = {}, Sum/sqrt(K) = {}\".format(np.std(s0)**2, e_var0))\n",
    "\n",
    "\n",
    "print(\"Hypothesis 1\")\n",
    "print(\"Mean of Sum = {}, Sum/sqrt(K) = {}\".format(np.mean(s1), e_mean1))\n",
    "print(\"Variance of Sum = {}, Sum/sqrt(K) = {}\".format(np.std(s1)**2, e_var1))\n",
    "\n",
    "#plt.hist(s0, bins = 100)\n",
    "#plt.hist(s1, bins = 100)\n",
    "plt.hist(c0, bins = 100)\n",
    "plt.hist(c1, bins = 100)\n",
    "plt.show()\n"
   ]
  },
  {
   "cell_type": "code",
   "execution_count": 273,
   "metadata": {
    "collapsed": false
   },
   "outputs": [],
   "source": [
    "# Generate Test data\n",
    "\n",
    "Ntest = 100000\n",
    "\n",
    "test_c0 = np.zeros(Ntest)\n",
    "test_c1 = np.zeros(Ntest)\n",
    "for i in range(Ntest):\n",
    "    test_c0[i] = np.sum(powerlaw.rvs(a0, size=K))              #Observation for hypothesis 0\n",
    "    test_c1[i] = np.sum(powerlaw.rvs(a1, size=K))               #Observation hypothesis 1\n",
    "\n",
    "test_c0 = (test_c0 - K*mean0)/(np.sqrt(K*var0)) \n",
    "test_c1 = (test_c1 - K*mean1)/(np.sqrt(K*var1))\n",
    "test_c0 = mean_diff + test_c0"
   ]
  },
  {
   "cell_type": "code",
   "execution_count": 274,
   "metadata": {
    "collapsed": false
   },
   "outputs": [
    {
     "name": "stdout",
     "output_type": "stream",
     "text": [
      "Threshold =  0.496212713954\n",
      "0.300875\n",
      "Gaussian error:  0.308537538726\n",
      "% error:  -2.48350290134\n"
     ]
    }
   ],
   "source": [
    "# Detection Assuming the Sum, Sum/K and Sum/sqrt(K) behave like gaussain\n",
    "\n",
    "Threshold = (e_mean0 + e_mean1)/2\n",
    "print(\"Threshold = \", Threshold)\n",
    "\n",
    "Error = 0\n",
    "for i in range(Ntest):\n",
    "    if test_c0[i] <= Threshold:\n",
    "        Error += 1\n",
    "    if test_c1[i] > Threshold:\n",
    "        Error += 1 \n",
    "emprical_error = Error/(2*Ntest)\n",
    "print(emprical_error)\n",
    "\n",
    "gaussian_error = 1 - norm.cdf(mean_diff/2)\n",
    "print(\"Gaussian error: \", gaussian_error)\n",
    "print(\"% error: \", (emprical_error - gaussian_error)*100/gaussian_error)"
   ]
  },
  {
   "cell_type": "code",
   "execution_count": null,
   "metadata": {
    "collapsed": true
   },
   "outputs": [],
   "source": []
  }
 ],
 "metadata": {
  "kernelspec": {
   "display_name": "Python 3",
   "language": "python",
   "name": "python3"
  },
  "language_info": {
   "codemirror_mode": {
    "name": "ipython",
    "version": 3
   },
   "file_extension": ".py",
   "mimetype": "text/x-python",
   "name": "python",
   "nbconvert_exporter": "python",
   "pygments_lexer": "ipython3",
   "version": "3.5.3"
  }
 },
 "nbformat": 4,
 "nbformat_minor": 0
}
