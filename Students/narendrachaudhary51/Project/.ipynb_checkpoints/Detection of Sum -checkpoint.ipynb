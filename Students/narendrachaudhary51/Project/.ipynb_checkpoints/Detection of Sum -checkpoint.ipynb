{
 "cells": [
  {
   "cell_type": "code",
   "execution_count": 1,
   "metadata": {
    "collapsed": true
   },
   "outputs": [],
   "source": [
    "import numpy as np\n",
    "from scipy.stats import powerlaw\n",
    "import matplotlib.pyplot as plt\n",
    "%matplotlib inline  "
   ]
  },
  {
   "cell_type": "code",
   "execution_count": 23,
   "metadata": {
    "collapsed": false
   },
   "outputs": [
    {
     "name": "stdout",
     "output_type": "stream",
     "text": [
      "0.3972684189037533 0.09004739272861799 0.3742420054268278 -1.1228043934069571\n",
      "0.49748743718592964 0.08360992877194157 0.008711142072721003 -1.2023137944454259\n"
     ]
    }
   ],
   "source": [
    "a0 = 0.65911332899\n",
    "a1 = 0.99\n",
    "mean0, var0, skew0, kurt0 = powerlaw.stats(a0, moments='mvsk')\n",
    "mean1, var1, skew1, kurt1 = powerlaw.stats(a1, moments='mvsk')\n",
    "print(mean0, var0, skew0, kurt0)\n",
    "print(mean1, var1, skew1, kurt1)"
   ]
  },
  {
   "cell_type": "code",
   "execution_count": 24,
   "metadata": {
    "collapsed": false
   },
   "outputs": [
    {
     "data": {
      "image/png": "[encoded data removed]",
      "text/plain": [
       "<matplotlib.figure.Figure at 0x19f5f047198>"
      ]
     },
     "metadata": {},
     "output_type": "display_data"
    },
    {
     "data": {
      "image/png": "[encoded data removed]",
      "text/plain": [
       "<matplotlib.figure.Figure at 0x19f5f092e10>"
      ]
     },
     "metadata": {},
     "output_type": "display_data"
    }
   ],
   "source": [
    "x = np.linspace(powerlaw.ppf(0.01, a0),powerlaw.ppf(0.99, a0), 100)\n",
    "plt.plot(x, powerlaw.pdf(x, a0), 'r-', lw=5, alpha=0.6, label='powerlaw pdf')\n",
    "plt.show()\n",
    "\n",
    "x = np.linspace(powerlaw.ppf(0.01, a1),powerlaw.ppf(0.99, a1), 100)\n",
    "plt.plot(x, powerlaw.pdf(x, a1), 'r-', lw=5, alpha=0.6, label='powerlaw pdf')\n",
    "plt.show()"
   ]
  },
  {
   "cell_type": "code",
   "execution_count": 28,
   "metadata": {
    "collapsed": false
   },
   "outputs": [
    {
     "name": "stdout",
     "output_type": "stream",
     "text": [
      "3.98091998243 0.906832263859\n",
      "4.97714819486 0.833255339431\n"
     ]
    },
    {
     "data": {
      "image/png": "[encoded data removed]",
      "text/plain": [
       "<matplotlib.figure.Figure at 0x19f5f4399e8>"
      ]
     },
     "metadata": {},
     "output_type": "display_data"
    }
   ],
   "source": [
    "N = 10000                                   #training set\n",
    "K = 10                                      #sum of K random variables\n",
    "\n",
    "z0 = np.zeros(N)\n",
    "z1 = np.zeros(N)\n",
    "w0 = np.zeros(N)\n",
    "w1 = np.zeros(N)\n",
    "c0 = np.zeros(N)\n",
    "c1 = np.zeros(N)\n",
    "for i in range(N):\n",
    "    z0[i] = np.sum(powerlaw.rvs(a0, size=K))               #Observation for hypothesis 0\n",
    "    z1[i] = np.sum(powerlaw.rvs(a1, size=K))               #Observation hypothesis 1\n",
    "\n",
    "w0 = z0/K\n",
    "w1 = z1/K\n",
    "\n",
    "c0 = z0/np.sqrt(K)\n",
    "c1 = z1/np.sqrt(K)\n",
    "\n",
    "print(np.mean(z0), np.std(z0)**2)\n",
    "print(np.mean(z1), np.std(z1)**2)\n",
    "plt.hist(z0, bins = 100)\n",
    "plt.hist(z1, bins = 100)\n",
    "plt.hist(w0, bins = 100)\n",
    "plt.hist(w1, bins = 100)\n",
    "plt.hist(c0, bins = 100)\n",
    "plt.hist(c1, bins = 100)\n",
    "plt.show()"
   ]
  },
  {
   "cell_type": "code",
   "execution_count": null,
   "metadata": {
    "collapsed": true
   },
   "outputs": [],
   "source": []
  }
 ],
 "metadata": {
  "kernelspec": {
   "display_name": "Python 3",
   "language": "python",
   "name": "python3"
  },
  "language_info": {
   "codemirror_mode": {
    "name": "ipython",
    "version": 3
   },
   "file_extension": ".py",
   "mimetype": "text/x-python",
   "name": "python",
   "nbconvert_exporter": "python",
   "pygments_lexer": "ipython3",
   "version": "3.5.3"
  }
 },
 "nbformat": 4,
 "nbformat_minor": 0
}
