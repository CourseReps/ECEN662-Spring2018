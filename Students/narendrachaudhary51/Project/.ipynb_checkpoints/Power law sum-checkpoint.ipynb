{
 "cells": [
  {
   "cell_type": "code",
   "execution_count": 152,
   "metadata": {
    "collapsed": false
   },
   "outputs": [
    {
     "ename": "ImportError",
     "evalue": "No module named 'seaborn'",
     "output_type": "error",
     "traceback": [
      "\u001b[1;31m---------------------------------------------------------------------------\u001b[0m",
      "\u001b[1;31mImportError\u001b[0m                               Traceback (most recent call last)",
      "\u001b[1;32m<ipython-input-152-c736290a448c>\u001b[0m in \u001b[0;36m<module>\u001b[1;34m()\u001b[0m\n\u001b[0;32m      3\u001b[0m \u001b[1;32mimport\u001b[0m \u001b[0mmatplotlib\u001b[0m\u001b[1;33m.\u001b[0m\u001b[0mpyplot\u001b[0m \u001b[1;32mas\u001b[0m \u001b[0mplt\u001b[0m\u001b[1;33m\u001b[0m\u001b[0m\n\u001b[0;32m      4\u001b[0m \u001b[1;32mimport\u001b[0m \u001b[0mpandas\u001b[0m \u001b[1;32mas\u001b[0m \u001b[0mpd\u001b[0m\u001b[1;33m\u001b[0m\u001b[0m\n\u001b[1;32m----> 5\u001b[1;33m \u001b[1;32mimport\u001b[0m \u001b[0mseaborn\u001b[0m \u001b[1;32mas\u001b[0m \u001b[0msns\u001b[0m\u001b[1;33m\u001b[0m\u001b[0m\n\u001b[0m\u001b[0;32m      6\u001b[0m \u001b[0mget_ipython\u001b[0m\u001b[1;33m(\u001b[0m\u001b[1;33m)\u001b[0m\u001b[1;33m.\u001b[0m\u001b[0mmagic\u001b[0m\u001b[1;33m(\u001b[0m\u001b[1;34m'matplotlib inline'\u001b[0m\u001b[1;33m)\u001b[0m\u001b[1;33m\u001b[0m\u001b[0m\n",
      "\u001b[1;31mImportError\u001b[0m: No module named 'seaborn'"
     ]
    }
   ],
   "source": [
    "import numpy as np\n",
    "from scipy.stats import powerlaw, norm, uniform, poisson\n",
    "import matplotlib.pyplot as plt\n",
    "import pandas as pd\n",
    "%matplotlib inline  "
   ]
  },
  {
   "cell_type": "code",
   "execution_count": 113,
   "metadata": {
    "collapsed": false
   },
   "outputs": [],
   "source": [
    "exp = [[1, 0.9],\n",
    "       [1,   2   ],\n",
    "       [1,   4   ],\n",
    "       [1,   10  ],\n",
    "       [1,   40  ]]\n",
    "\n",
    "Ks = [5, 10, 15, 20, 30, 50, 100]\n",
    "\n",
    "mean_diffs = [0.5, 1, 2, 3, 4, 5, 6, 7, 8]\n",
    "\n",
    "\n",
    "df = pd.DataFrame(columns = ['a0', 'a1', 'Mean difference', 'K','Emperical Error', 'Gaussian Error', 'Relative % Error'])\n",
    "\n",
    "Ntrain = 10000                                   #training set\n",
    "s0 = np.zeros(Ntrain)\n",
    "s1 = np.zeros(Ntrain)\n",
    "c0 = np.zeros(Ntrain)\n",
    "c1 = np.zeros(Ntrain)\n",
    "\n",
    "Ntest = 100000\n",
    "\n",
    "test_s0 = np.zeros(Ntest)\n",
    "test_s1 = np.zeros(Ntest)\n",
    "test_c0 = np.zeros(Ntest)\n",
    "test_c1 = np.zeros(Ntest)\n",
    "\n",
    "count = 0\n",
    "for a1, a0 in exp:\n",
    "    for K in Ks:\n",
    "        # Generate Training Data\n",
    "        \n",
    "        for i in range(Ntrain):\n",
    "            s0[i] = np.sum(powerlaw.rvs(a0, size=K))               #Observation for hypothesis 0\n",
    "            s1[i] = np.sum(powerlaw.rvs(a1, size=K))               #Observation hypothesis 1\n",
    "\n",
    "        c0 = (s0 - np.mean(s0))/np.std(s0)                         #normalized random variable\n",
    "        c1 = (s1 - np.mean(s1))/np.std(s1)                         #normalized random variable                     \n",
    "            \n",
    "        # Generate Test data\n",
    "        \n",
    "        for i in range(Ntest):\n",
    "            test_s0[i] = np.sum(powerlaw.rvs(a0, size=K))              #Observation for hypothesis 0\n",
    "            test_s1[i] = np.sum(powerlaw.rvs(a1, size=K))              #Observation hypothesis 1 \n",
    "        \n",
    "        test_c0 = (test_s0 - np.mean(test_s0))/(np.std(test_s0))       \n",
    "        test_c1 = (test_s1 - np.mean(test_s1))/(np.std(test_s1))\n",
    "            \n",
    "        for mean_diff in mean_diffs:\n",
    "            c0 = mean_diff + c0\n",
    "            test_c0 = mean_diff + test_c0 \n",
    "            \n",
    "            Threshold = (mean_diff)/2\n",
    "                \n",
    "            Error = 0\n",
    "            for i in range(Ntest):\n",
    "                if test_c0[i] <= Threshold:\n",
    "                    Error += 1\n",
    "                if test_c1[i] > Threshold:\n",
    "                    Error += 1 \n",
    "            \n",
    "            #Error = np.sum(test_c0 <= Threshold) + np.sum(test_c1[i] > Threshold)\n",
    "            \n",
    "            c0 = c0 - mean_diff\n",
    "            test_c0 = test_c0 - mean_diff\n",
    "            \n",
    "            emprical_error = Error/(2*Ntest)\n",
    "            gaussian_error = 1 - norm.cdf(mean_diff/2)\n",
    "            percent_error = (emprical_error - gaussian_error)*100/gaussian_error\n",
    "                \n",
    "            #print(\"Empirical Error\", emprical_error)\n",
    "            #print(\"Gaussian Error: \", gaussian_error)\n",
    "            #print(\"% error: \", percent_error)\n",
    "            \n",
    "            df.loc[count] = [a0, a1, mean_diff, K, emprical_error, gaussian_error, percent_error]\n",
    "            count = count + 1"
   ]
  },
  {
   "cell_type": "code",
   "execution_count": 114,
   "metadata": {
    "collapsed": false
   },
   "outputs": [
    {
     "name": "stdout",
     "output_type": "stream",
     "text": [
      "       a0   a1  Mean difference      K  Emperical Error  Gaussian Error  \\\n",
      "0     0.9  1.0              0.5    5.0         0.405175        0.401294   \n",
      "1     0.9  1.0              1.0    5.0         0.314120        0.308538   \n",
      "2     0.9  1.0              2.0    5.0         0.164140        0.158655   \n",
      "3     0.9  1.0              3.0    5.0         0.068055        0.066807   \n",
      "4     0.9  1.0              4.0    5.0         0.021010        0.022750   \n",
      "5     0.9  1.0              5.0    5.0         0.004065        0.006210   \n",
      "6     0.9  1.0              6.0    5.0         0.000305        0.001350   \n",
      "7     0.9  1.0              7.0    5.0         0.000005        0.000233   \n",
      "8     0.9  1.0              8.0    5.0         0.000000        0.000032   \n",
      "9     0.9  1.0              0.5   10.0         0.404170        0.401294   \n",
      "10    0.9  1.0              1.0   10.0         0.311675        0.308538   \n",
      "11    0.9  1.0              2.0   10.0         0.160440        0.158655   \n",
      "12    0.9  1.0              3.0   10.0         0.067210        0.066807   \n",
      "13    0.9  1.0              4.0   10.0         0.021675        0.022750   \n",
      "14    0.9  1.0              5.0   10.0         0.005375        0.006210   \n",
      "15    0.9  1.0              6.0   10.0         0.000810        0.001350   \n",
      "16    0.9  1.0              7.0   10.0         0.000060        0.000233   \n",
      "17    0.9  1.0              8.0   10.0         0.000000        0.000032   \n",
      "18    0.9  1.0              0.5   15.0         0.403705        0.401294   \n",
      "19    0.9  1.0              1.0   15.0         0.311020        0.308538   \n",
      "20    0.9  1.0              2.0   15.0         0.160260        0.158655   \n",
      "21    0.9  1.0              3.0   15.0         0.066995        0.066807   \n",
      "22    0.9  1.0              4.0   15.0         0.021890        0.022750   \n",
      "23    0.9  1.0              5.0   15.0         0.005600        0.006210   \n",
      "24    0.9  1.0              6.0   15.0         0.001040        0.001350   \n",
      "25    0.9  1.0              7.0   15.0         0.000155        0.000233   \n",
      "26    0.9  1.0              8.0   15.0         0.000010        0.000032   \n",
      "27    0.9  1.0              0.5   20.0         0.402885        0.401294   \n",
      "28    0.9  1.0              1.0   20.0         0.310265        0.308538   \n",
      "29    0.9  1.0              2.0   20.0         0.160360        0.158655   \n",
      "..    ...  ...              ...    ...              ...             ...   \n",
      "285  40.0  1.0              6.0   20.0         0.002770        0.001350   \n",
      "286  40.0  1.0              7.0   20.0         0.000805        0.000233   \n",
      "287  40.0  1.0              8.0   20.0         0.000235        0.000032   \n",
      "288  40.0  1.0              0.5   30.0         0.392220        0.401294   \n",
      "289  40.0  1.0              1.0   30.0         0.302375        0.308538   \n",
      "290  40.0  1.0              2.0   30.0         0.158520        0.158655   \n",
      "291  40.0  1.0              3.0   30.0         0.070250        0.066807   \n",
      "292  40.0  1.0              4.0   30.0         0.026680        0.022750   \n",
      "293  40.0  1.0              5.0   30.0         0.008950        0.006210   \n",
      "294  40.0  1.0              6.0   30.0         0.002650        0.001350   \n",
      "295  40.0  1.0              7.0   30.0         0.000810        0.000233   \n",
      "296  40.0  1.0              8.0   30.0         0.000195        0.000032   \n",
      "297  40.0  1.0              0.5   50.0         0.394120        0.401294   \n",
      "298  40.0  1.0              1.0   50.0         0.302860        0.308538   \n",
      "299  40.0  1.0              2.0   50.0         0.158775        0.158655   \n",
      "300  40.0  1.0              3.0   50.0         0.070325        0.066807   \n",
      "301  40.0  1.0              4.0   50.0         0.025705        0.022750   \n",
      "302  40.0  1.0              5.0   50.0         0.008275        0.006210   \n",
      "303  40.0  1.0              6.0   50.0         0.002320        0.001350   \n",
      "304  40.0  1.0              7.0   50.0         0.000525        0.000233   \n",
      "305  40.0  1.0              8.0   50.0         0.000115        0.000032   \n",
      "306  40.0  1.0              0.5  100.0         0.395560        0.401294   \n",
      "307  40.0  1.0              1.0  100.0         0.305060        0.308538   \n",
      "308  40.0  1.0              2.0  100.0         0.158055        0.158655   \n",
      "309  40.0  1.0              3.0  100.0         0.068820        0.066807   \n",
      "310  40.0  1.0              4.0  100.0         0.025200        0.022750   \n",
      "311  40.0  1.0              5.0  100.0         0.007620        0.006210   \n",
      "312  40.0  1.0              6.0  100.0         0.002050        0.001350   \n",
      "313  40.0  1.0              7.0  100.0         0.000455        0.000233   \n",
      "314  40.0  1.0              8.0  100.0         0.000055        0.000032   \n",
      "\n",
      "     Relative % Error  \n",
      "0            0.967203  \n",
      "1            1.809330  \n",
      "2            3.457021  \n",
      "3            1.867761  \n",
      "4           -7.648887  \n",
      "5          -34.537535  \n",
      "6          -77.405701  \n",
      "7          -97.850656  \n",
      "8         -100.000000  \n",
      "9            0.716763  \n",
      "10           1.016882  \n",
      "11           1.124921  \n",
      "12           0.602927  \n",
      "13          -4.725827  \n",
      "14         -13.441390  \n",
      "15         -39.995468  \n",
      "16         -74.207868  \n",
      "17        -100.000000  \n",
      "18           0.600888  \n",
      "19           0.804590  \n",
      "20           1.011467  \n",
      "21           0.281106  \n",
      "22          -3.780778  \n",
      "23          -9.818006  \n",
      "24         -22.957144  \n",
      "25         -33.370325  \n",
      "26         -68.425614  \n",
      "27           0.396549  \n",
      "28           0.559887  \n",
      "29           1.074497  \n",
      "..                ...  \n",
      "285        105.200684  \n",
      "286        246.044443  \n",
      "287        641.998060  \n",
      "288         -2.261106  \n",
      "289         -1.997338  \n",
      "290         -0.085250  \n",
      "291          5.153335  \n",
      "292         17.274045  \n",
      "293         44.130151  \n",
      "294         96.311124  \n",
      "295        248.193787  \n",
      "296        515.700518  \n",
      "297         -1.787637  \n",
      "298         -1.840145  \n",
      "299          0.075476  \n",
      "300          5.265598  \n",
      "301         12.988356  \n",
      "302         33.260000  \n",
      "303         71.864833  \n",
      "304        125.681158  \n",
      "305        263.105434  \n",
      "306         -1.428798  \n",
      "307         -1.127104  \n",
      "308         -0.378339  \n",
      "309          3.012847  \n",
      "310         10.768588  \n",
      "311         22.711927  \n",
      "312         51.863322  \n",
      "313         95.590337  \n",
      "314         73.659120  \n",
      "\n",
      "[315 rows x 7 columns]\n"
     ]
    }
   ],
   "source": [
    "print(df)"
   ]
  },
  {
   "cell_type": "code",
   "execution_count": 153,
   "metadata": {
    "collapsed": false
   },
   "outputs": [
    {
     "name": "stdout",
     "output_type": "stream",
     "text": [
      "       a0   a1  Mean difference     K  Emperical Error  Gaussian Error  \\\n",
      "279  40.0  1.0              0.5  20.0         0.389315        0.401294   \n",
      "280  40.0  1.0              1.0  20.0         0.300600        0.308538   \n",
      "281  40.0  1.0              2.0  20.0         0.158365        0.158655   \n",
      "282  40.0  1.0              3.0  20.0         0.071125        0.066807   \n",
      "283  40.0  1.0              4.0  20.0         0.027950        0.022750   \n",
      "284  40.0  1.0              5.0  20.0         0.009540        0.006210   \n",
      "285  40.0  1.0              6.0  20.0         0.002770        0.001350   \n",
      "286  40.0  1.0              7.0  20.0         0.000805        0.000233   \n",
      "287  40.0  1.0              8.0  20.0         0.000235        0.000032   \n",
      "\n",
      "     Relative % Error  \n",
      "279         -2.985014  \n",
      "280         -2.572633  \n",
      "281         -0.182946  \n",
      "282          6.463074  \n",
      "283         22.856430  \n",
      "284         53.631468  \n",
      "285        105.200684  \n",
      "286        246.044443  \n",
      "287        641.998060  \n"
     ]
    }
   ],
   "source": [
    "print(df.loc[(df['a0'] == 40) & (df['a1'] == 1) & (df['K'] == 20)])"
   ]
  },
  {
   "cell_type": "code",
   "execution_count": 154,
   "metadata": {
    "collapsed": true
   },
   "outputs": [],
   "source": [
    "#path = 'C:\\\\Users\\\\narendra\\\\Documents\\\\courses\\\\662-Estimation_and_detection_theory\\\\ECEN662-Spring2018\\\\Students\\\\narendrachaudhary51\\\\Project\\\\'\n",
    "#df.to_csv(path + 'Test_results.csv')"
   ]
  },
  {
   "cell_type": "code",
   "execution_count": 155,
   "metadata": {
    "collapsed": false
   },
   "outputs": [
    {
     "data": {
      "text/plain": [
       "<matplotlib.axes._subplots.AxesSubplot at 0x214fc8719b0>"
      ]
     },
     "execution_count": 155,
     "metadata": {},
     "output_type": "execute_result"
    },
    {
     "data": {
      "image/png": "[encoded data removed]",
      "text/plain": [
       "<matplotlib.figure.Figure at 0x214fc8716d8>"
      ]
     },
     "metadata": {},
     "output_type": "display_data"
    }
   ],
   "source": [
    "df.loc[(df['a0'] == 10) & (df['a1'] == 1) & (df['Mean difference'] == 8)].plot(x = 'K', y = 'Relative % Error')"
   ]
  },
  {
   "cell_type": "code",
   "execution_count": null,
   "metadata": {
    "collapsed": true
   },
   "outputs": [],
   "source": []
  }
 ],
 "metadata": {
  "kernelspec": {
   "display_name": "Python 3",
   "language": "python",
   "name": "python3"
  },
  "language_info": {
   "codemirror_mode": {
    "name": "ipython",
    "version": 3
   },
   "file_extension": ".py",
   "mimetype": "text/x-python",
   "name": "python",
   "nbconvert_exporter": "python",
   "pygments_lexer": "ipython3",
   "version": "3.5.3"
  }
 },
 "nbformat": 4,
 "nbformat_minor": 0
}
