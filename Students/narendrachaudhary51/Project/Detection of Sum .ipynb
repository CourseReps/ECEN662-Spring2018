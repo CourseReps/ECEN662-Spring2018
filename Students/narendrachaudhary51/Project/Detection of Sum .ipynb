{
 "cells": [
  {
   "cell_type": "code",
   "execution_count": 52,
   "metadata": {
    "collapsed": true
   },
   "outputs": [],
   "source": [
    "import numpy as np\n",
    "from scipy.stats import powerlaw, norm, uniform, poisson\n",
    "import matplotlib.pyplot as plt\n",
    "%matplotlib inline  "
   ]
  },
  {
   "cell_type": "code",
   "execution_count": 134,
   "metadata": {
    "collapsed": false
   },
   "outputs": [
    {
     "name": "stdout",
     "output_type": "stream",
     "text": [
      "0.6666666666666666 0.05555555555555555 -0.5656854249492381 -0.6\n",
      "0.5 0.08333333333333333 -0.0 -1.2\n"
     ]
    }
   ],
   "source": [
    "a0 = 2\n",
    "a1 = 1\n",
    "mean0, var0, skew0, kurt0 = powerlaw.stats(a0, moments='mvsk')\n",
    "mean1, var1, skew1, kurt1 = powerlaw.stats(a1, moments='mvsk')\n",
    "print(mean0, var0, skew0, kurt0)\n",
    "print(mean1, var1, skew1, kurt1)"
   ]
  },
  {
   "cell_type": "code",
   "execution_count": 135,
   "metadata": {
    "collapsed": false
   },
   "outputs": [
    {
     "data": {
      "image/png": "[encoded data removed]",
      "text/plain": [
       "<matplotlib.figure.Figure at 0x26ef7ed17b8>"
      ]
     },
     "metadata": {},
     "output_type": "display_data"
    }
   ],
   "source": [
    "x = np.linspace(powerlaw.ppf(0.01, a0),powerlaw.ppf(0.99, a0), 100)\n",
    "plt.plot(x, powerlaw.pdf(x, a0), 'r-', lw=5, alpha=0.6, label='powerlaw pdf with parameter = {}'.format(a0))\n",
    "plt.legend(bbox_to_anchor=(1.05, 1), loc=2, borderaxespad=0.)\n",
    "#plt.show()\n",
    "\n",
    "#x = np.linspace(powerlaw.ppf(0.01, a1),powerlaw.ppf(0.99, a1), 100)\n",
    "plt.plot(x, powerlaw.pdf(x, a1), 'b-', lw=5, alpha=0.6, label='powerlaw pdf with parameter = {}'.format(a1))\n",
    "plt.legend(bbox_to_anchor=(1.05, 1), loc=2, borderaxespad=0.)\n",
    "plt.show()"
   ]
  },
  {
   "cell_type": "code",
   "execution_count": 136,
   "metadata": {
    "collapsed": false
   },
   "outputs": [],
   "source": [
    "#Generate Training Data \n",
    "\n",
    "Ntrain = 10000                                   #training set\n",
    "K = 20                              #sum of K random variables\n",
    "\n",
    "mean_diff = 5\n",
    "\n",
    "s0 = np.zeros(Ntrain)\n",
    "s1 = np.zeros(Ntrain)\n",
    "\n",
    "c0 = np.zeros(Ntrain)\n",
    "c1 = np.zeros(Ntrain)\n",
    "for i in range(Ntrain):\n",
    "    s0[i] = np.sum(powerlaw.rvs(a0, size=K))               #Observation for hypothesis 0\n",
    "    s1[i] = np.sum(powerlaw.rvs(a1, size=K))               #Observation hypothesis 1\n",
    "    \n",
    "    #s0[i] = np.sum(poisson.rvs(40, size=K))\n",
    "    #s1[i] = np.sum(poisson.rvs(4, size=K))\n",
    "\n",
    "c0 = (s0 - np.mean(s0))/np.std(s0)                         #normalized random variable\n",
    "c1 = (s1 - np.mean(s1))/np.std(s1)                         #normalized random variable\n",
    "\n",
    "#c0 = (s0 - K*mean0)/np.sqrt(K*var0)                         \n",
    "#c1 = (s1 - K*mean1)/np.sqrt(K*var1)                        \n",
    "c0 = mean_diff + c0                                        # add mean to c0"
   ]
  },
  {
   "cell_type": "code",
   "execution_count": 137,
   "metadata": {
    "collapsed": false
   },
   "outputs": [],
   "source": [
    "# Generate Test data\n",
    "\n",
    "Ntest = 100000\n",
    "\n",
    "test_s0 = np.zeros(Ntest)\n",
    "test_s1 = np.zeros(Ntest)\n",
    "\n",
    "test_c0 = np.zeros(Ntest)\n",
    "test_c1 = np.zeros(Ntest)\n",
    "for i in range(Ntest):\n",
    "    test_s0[i] = np.sum(powerlaw.rvs(a0, size=K))              #Observation for hypothesis 0\n",
    "    test_s1[i] = np.sum(powerlaw.rvs(a1, size=K))              #Observation hypothesis 1 \n",
    "    \n",
    "    #test_s0[i] = np.sum(poisson.rvs(40, size=K))\n",
    "    #test_s1[i] = np.sum(poisson.rvs(4, size=K))\n",
    "\n",
    "test_c0 = (test_s0 - np.mean(test_s0))/(np.std(test_s0))       \n",
    "test_c1 = (test_s1 - np.mean(test_s1))/(np.std(test_s1))\n",
    "\n",
    "#test_c0 = (test_s0 - K*mean0)/(np.sqrt(K*var0)) \n",
    "#test_c1 = (test_s1 - K*mean1)/(np.sqrt(K*var1))\n",
    "\n",
    "test_c0 = mean_diff + test_c0                                 # add mean to c0"
   ]
  },
  {
   "cell_type": "code",
   "execution_count": 138,
   "metadata": {
    "collapsed": false,
    "scrolled": true
   },
   "outputs": [
    {
     "name": "stdout",
     "output_type": "stream",
     "text": [
      "Hypothesis 0\n",
      "Mean Normalized sum = 4.999999999999998\n",
      "Variance Normalized sum = 0.9999999999999998\n",
      "Hypothesis 1\n",
      "Mean Normaliized Sum = 7.549516567451064e-16\n",
      "Variance Normalized sum = 0.9999999999999998\n"
     ]
    },
    {
     "data": {
      "image/png": "[encoded data removed]",
      "text/plain": [
       "<matplotlib.figure.Figure at 0x26ef928e5f8>"
      ]
     },
     "metadata": {},
     "output_type": "display_data"
    }
   ],
   "source": [
    "\n",
    "print(\"Hypothesis 0\")\n",
    "print(\"Mean Normalized sum = {}\".format(e_mean0))\n",
    "print(\"Variance Normalized sum = {}\".format(e_var0))\n",
    "\n",
    "#print(\"Mean of Sum = {}, Normalized sum = {}\".format(np.mean(s0), e_mean0))\n",
    "#print(\"Variance of Sum = {}, Normalized sum = {}\".format(np.std(s0)**2, e_var0))\n",
    "\n",
    "print(\"Hypothesis 1\")\n",
    "print(\"Mean Normaliized Sum = {}\".format(e_mean1))\n",
    "print(\"Variance Normalized sum = {}\".format(e_var1))\n",
    "\n",
    "#print(\"Mean of Sum = {}, Normaliized sum = {}\".format(np.mean(s1), e_mean1))\n",
    "#print(\"Variance of Sum = {}, Normalized sum = {}\".format(np.std(s1)**2, e_var1))\n",
    "\n",
    "#plt.hist(s0, bins = 100)\n",
    "#plt.hist(s1, bins = 100)\n",
    "plt.hist(c0, bins = 100, label = 'Hypothesis 0')\n",
    "plt.hist(c1, bins = 100, label = 'Hypothesis 1')\n",
    "plt.title('Normalized Sums of K=20 with mean difference of 5')\n",
    "plt.legend(bbox_to_anchor=(1.05, 1), loc=2, borderaxespad=0.)\n",
    "plt.show()"
   ]
  },
  {
   "cell_type": "code",
   "execution_count": 139,
   "metadata": {
    "collapsed": false
   },
   "outputs": [
    {
     "name": "stdout",
     "output_type": "stream",
     "text": [
      "Threshold =  2.5\n",
      "Empirical Error 0.006895\n",
      "Gaussian Error:  0.00620966532578\n",
      "% error:  11.0365798842\n"
     ]
    }
   ],
   "source": [
    "# Detection Assuming the c0 and c1 behave like gaussain\n",
    "\n",
    "e_mean0 = np.mean(c0) \n",
    "e_var0 = np.std(c0)**2\n",
    "\n",
    "e_mean1 = np.mean(c1)\n",
    "e_var1 = np.std(c1)**2\n",
    "\n",
    "#Threshold = (e_mean0 + e_mean1)/2\n",
    "Threshold = (mean_diff)/2\n",
    "print(\"Threshold = \", Threshold)\n",
    "\n",
    "Error = 0\n",
    "for i in range(Ntest):\n",
    "    if test_c0[i] <= Threshold:\n",
    "        Error += 1\n",
    "    if test_c1[i] > Threshold:\n",
    "        Error += 1 \n",
    "emprical_error = Error/(2*Ntest)\n",
    "print(\"Empirical Error\", emprical_error)\n",
    "\n",
    "gaussian_error = 1 - norm.cdf(mean_diff/2)\n",
    "print(\"Gaussian Error: \", gaussian_error)\n",
    "print(\"% error: \", (emprical_error - gaussian_error)*100/gaussian_error)"
   ]
  },
  {
   "cell_type": "code",
   "execution_count": null,
   "metadata": {
    "collapsed": true
   },
   "outputs": [],
   "source": []
  }
 ],
 "metadata": {
  "kernelspec": {
   "display_name": "Python 3",
   "language": "python",
   "name": "python3"
  },
  "language_info": {
   "codemirror_mode": {
    "name": "ipython",
    "version": 3
   },
   "file_extension": ".py",
   "mimetype": "text/x-python",
   "name": "python",
   "nbconvert_exporter": "python",
   "pygments_lexer": "ipython3",
   "version": "3.5.3"
  }
 },
 "nbformat": 4,
 "nbformat_minor": 0
}
